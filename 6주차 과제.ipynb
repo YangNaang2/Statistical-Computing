{
 "cells": [
  {
   "cell_type": "code",
   "execution_count": 18,
   "id": "7f433946",
   "metadata": {},
   "outputs": [],
   "source": [
    "import pandas as pd\n",
    "import numpy as np"
   ]
  },
  {
   "cell_type": "code",
   "execution_count": 19,
   "id": "cdc3f456",
   "metadata": {},
   "outputs": [],
   "source": [
    "data1 = pd.read_csv('people100_ms.csv')"
   ]
  },
  {
   "cell_type": "code",
   "execution_count": 20,
   "id": "07902d0f",
   "metadata": {},
   "outputs": [],
   "source": [
    "missing = data1.isna().sum()"
   ]
  },
  {
   "cell_type": "code",
   "execution_count": 21,
   "id": "d7ff5b97",
   "metadata": {},
   "outputs": [
    {
     "name": "stdout",
     "output_type": "stream",
     "text": [
      "User Id           0\n",
      "First Name        1\n",
      "Last Name         0\n",
      "Sex               1\n",
      "Email             0\n",
      "Phone            12\n",
      "Date of birth     0\n",
      "Job Title         1\n",
      "dtype: int64\n"
     ]
    }
   ],
   "source": [
    "print(missing)"
   ]
  },
  {
   "cell_type": "code",
   "execution_count": 22,
   "id": "36b6f122",
   "metadata": {},
   "outputs": [],
   "source": [
    "no_mv = data1.dropna(axis=0, how='any',inplace=False)"
   ]
  },
  {
   "cell_type": "code",
   "execution_count": 23,
   "id": "31f438aa",
   "metadata": {},
   "outputs": [
    {
     "name": "stdout",
     "output_type": "stream",
     "text": [
      "행 수: 86\n",
      "열 수; 8\n"
     ]
    }
   ],
   "source": [
    "num_rows, num_columns = no_mv.shape\n",
    "print(f\"행 수: {num_rows}\")\n",
    "print(f\"열 수; {num_columns}\")"
   ]
  },
  {
   "cell_type": "code",
   "execution_count": null,
   "id": "7b8e915d",
   "metadata": {},
   "outputs": [],
   "source": []
  }
 ],
 "metadata": {
  "kernelspec": {
   "display_name": "Python 3 (ipykernel)",
   "language": "python",
   "name": "python3"
  },
  "language_info": {
   "codemirror_mode": {
    "name": "ipython",
    "version": 3
   },
   "file_extension": ".py",
   "mimetype": "text/x-python",
   "name": "python",
   "nbconvert_exporter": "python",
   "pygments_lexer": "ipython3",
   "version": "3.11.4"
  }
 },
 "nbformat": 4,
 "nbformat_minor": 5
}
