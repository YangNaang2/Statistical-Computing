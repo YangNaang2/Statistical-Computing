{
 "cells": [
  {
   "cell_type": "code",
   "execution_count": 1,
   "id": "df187ddd",
   "metadata": {},
   "outputs": [],
   "source": [
    "import numpy as np\n",
    "import pandas as pd\n",
    "\n",
    "from scipy.stats import chi2_contingency, fisher_exact\n",
    "from scipy.stats.contingency import expected_freq"
   ]
  },
  {
   "cell_type": "code",
   "execution_count": 21,
   "id": "5a6437a4",
   "metadata": {},
   "outputs": [
    {
     "data": {
      "text/html": [
       "<div>\n",
       "<style scoped>\n",
       "    .dataframe tbody tr th:only-of-type {\n",
       "        vertical-align: middle;\n",
       "    }\n",
       "\n",
       "    .dataframe tbody tr th {\n",
       "        vertical-align: top;\n",
       "    }\n",
       "\n",
       "    .dataframe thead tr th {\n",
       "        text-align: left;\n",
       "    }\n",
       "\n",
       "    .dataframe thead tr:last-of-type th {\n",
       "        text-align: right;\n",
       "    }\n",
       "</style>\n",
       "<table border=\"1\" class=\"dataframe\">\n",
       "  <thead>\n",
       "    <tr>\n",
       "      <th></th>\n",
       "      <th colspan=\"2\" halign=\"left\">observed</th>\n",
       "    </tr>\n",
       "    <tr>\n",
       "      <th>man</th>\n",
       "      <th>Non-smoker</th>\n",
       "      <th>Smoker</th>\n",
       "    </tr>\n",
       "    <tr>\n",
       "      <th>sick</th>\n",
       "      <th></th>\n",
       "      <th></th>\n",
       "    </tr>\n",
       "  </thead>\n",
       "  <tbody>\n",
       "    <tr>\n",
       "      <th>Healthy</th>\n",
       "      <td>120</td>\n",
       "      <td>30</td>\n",
       "    </tr>\n",
       "    <tr>\n",
       "      <th>Lung-cancer</th>\n",
       "      <td>33</td>\n",
       "      <td>117</td>\n",
       "    </tr>\n",
       "  </tbody>\n",
       "</table>\n",
       "</div>"
      ],
      "text/plain": [
       "              observed       \n",
       "man         Non-smoker Smoker\n",
       "sick                         \n",
       "Healthy            120     30\n",
       "Lung-cancer         33    117"
      ]
     },
     "execution_count": 21,
     "metadata": {},
     "output_type": "execute_result"
    }
   ],
   "source": [
    "fisher_data = pd.DataFrame({'man':['Smoker','Smoker','Non-smoker','Non-smoker'],\n",
    "                           'sick':['Lung-cancer','Healthy','Lung-cancer','Healthy'],\n",
    "                           'observed':[117,30,33,120]})\n",
    "                          \n",
    "fisher_table = pd.pivot_table(fisher_data, values=['observed'], index=['sick'],columns=['man'])\n",
    "fisher_table"
   ]
  },
  {
   "cell_type": "code",
   "execution_count": 25,
   "id": "d133483f",
   "metadata": {},
   "outputs": [],
   "source": [
    "observed_values = fisher_table.values"
   ]
  },
  {
   "cell_type": "code",
   "execution_count": 27,
   "id": "9fc2f741",
   "metadata": {},
   "outputs": [
    {
     "name": "stdout",
     "output_type": "stream",
     "text": [
      "p-value: 1.2979935831766245e-24\n"
     ]
    }
   ],
   "source": [
    "_, pvalue = fisher_exact(observed_values, alternative='two-sided')\n",
    "print(\"p-value:\", pvalue)"
   ]
  },
  {
   "cell_type": "code",
   "execution_count": 31,
   "id": "258a7cad",
   "metadata": {},
   "outputs": [
    {
     "name": "stdout",
     "output_type": "stream",
     "text": [
      "귀무가설 기각, 흡연과 질병은 서로 연관성이 있다\n"
     ]
    }
   ],
   "source": [
    "alpha = 0.05\n",
    "if pvalue < alpha:\n",
    "    print(\"귀무가설 기각, 흡연과 질병은 서로 연관성이 있다\")\n",
    "else:\n",
    "    print(\"귀무가설(흡연과 질병은 독립적이다.) 채택\")"
   ]
  },
  {
   "cell_type": "code",
   "execution_count": null,
   "id": "f089a8bb",
   "metadata": {},
   "outputs": [],
   "source": []
  }
 ],
 "metadata": {
  "kernelspec": {
   "display_name": "Python 3 (ipykernel)",
   "language": "python",
   "name": "python3"
  },
  "language_info": {
   "codemirror_mode": {
    "name": "ipython",
    "version": 3
   },
   "file_extension": ".py",
   "mimetype": "text/x-python",
   "name": "python",
   "nbconvert_exporter": "python",
   "pygments_lexer": "ipython3",
   "version": "3.11.4"
  }
 },
 "nbformat": 4,
 "nbformat_minor": 5
}
