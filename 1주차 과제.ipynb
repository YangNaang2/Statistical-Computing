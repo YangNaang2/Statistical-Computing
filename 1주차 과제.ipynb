{
 "cells": [
  {
   "cell_type": "code",
   "execution_count": 16,
   "id": "5a52b4e1",
   "metadata": {},
   "outputs": [],
   "source": [
    "import numpy as np"
   ]
  },
  {
   "cell_type": "code",
   "execution_count": 17,
   "id": "65b96ce7",
   "metadata": {},
   "outputs": [],
   "source": [
    "x = [164, 292, 102, 153, 139,18, 92, 236, 241, 202, 31, 24, 145, 188, 293, 204, 32, 220, 154, 131, 45, 214, 62, 188, 129, 171, 161, 151, 142, 118, 171, 190, 129, 115, 168, 94, 230, 139, 100, 99, 99, 72, 103, 109, 176, 111, 59, 44, 140, 135]"
   ]
  },
  {
   "cell_type": "code",
   "execution_count": 18,
   "id": "f0b48008",
   "metadata": {},
   "outputs": [],
   "source": [
    "hist, edges = np.histogram(x,5)"
   ]
  },
  {
   "cell_type": "code",
   "execution_count": 19,
   "id": "677885c6",
   "metadata": {},
   "outputs": [
    {
     "data": {
      "text/plain": [
       "array([ 18.,  73., 128., 183., 238., 293.])"
      ]
     },
     "execution_count": 19,
     "metadata": {},
     "output_type": "execute_result"
    }
   ],
   "source": [
    "edges"
   ]
  },
  {
   "cell_type": "code",
   "execution_count": 20,
   "id": "b7ac67f7",
   "metadata": {},
   "outputs": [
    {
     "data": {
      "text/plain": [
       "array([ 9, 11, 18,  9,  3], dtype=int64)"
      ]
     },
     "execution_count": 20,
     "metadata": {},
     "output_type": "execute_result"
    }
   ],
   "source": [
    "hist"
   ]
  },
  {
   "cell_type": "code",
   "execution_count": 21,
   "id": "83e57ccb",
   "metadata": {},
   "outputs": [
    {
     "data": {
      "text/plain": [
       "<seaborn.axisgrid.FacetGrid at 0x22b8051e0d0>"
      ]
     },
     "execution_count": 21,
     "metadata": {},
     "output_type": "execute_result"
    },
    {
     "data": {
      "image/png": "[encoded data removed]",
      "text/plain": [
       "<Figure size 500x500 with 1 Axes>"
      ]
     },
     "metadata": {},
     "output_type": "display_data"
    }
   ],
   "source": [
    "import seaborn as sns\n",
    "sns.displot(x, bins=5, kde=False)"
   ]
  },
  {
   "cell_type": "code",
   "execution_count": 22,
   "id": "9c684bf2",
   "metadata": {},
   "outputs": [],
   "source": [
    "import pandas as pd"
   ]
  },
  {
   "cell_type": "code",
   "execution_count": 14,
   "id": "2e84dc82",
   "metadata": {},
   "outputs": [
    {
     "name": "stdout",
     "output_type": "stream",
     "text": [
      "values  Frequency  All\n",
      "row_0                 \n",
      "18              1    1\n",
      "24              1    1\n",
      "31              1    1\n",
      "32              1    1\n",
      "44              1    1\n",
      "45              1    1\n",
      "59              1    1\n",
      "62              1    1\n",
      "72              1    1\n",
      "92              1    1\n",
      "94              1    1\n",
      "99              2    2\n",
      "100             1    1\n",
      "102             1    1\n",
      "103             1    1\n",
      "109             1    1\n",
      "111             1    1\n",
      "115             1    1\n",
      "118             1    1\n",
      "129             2    2\n",
      "131             1    1\n",
      "135             1    1\n",
      "139             2    2\n",
      "140             1    1\n",
      "142             1    1\n",
      "145             1    1\n",
      "151             1    1\n",
      "153             1    1\n",
      "154             1    1\n",
      "161             1    1\n",
      "164             1    1\n",
      "168             1    1\n",
      "171             2    2\n",
      "176             1    1\n",
      "188             2    2\n",
      "190             1    1\n",
      "202             1    1\n",
      "204             1    1\n",
      "214             1    1\n",
      "220             1    1\n",
      "230             1    1\n",
      "236             1    1\n",
      "241             1    1\n",
      "292             1    1\n",
      "293             1    1\n",
      "All            50   50\n"
     ]
    }
   ],
   "source": [
    "table1 = pd.crosstab(index = data, colnames = [\"values\"], columns = \"Frequency\", margins = True)\n",
    "print(table1)"
   ]
  },
  {
   "cell_type": "code",
   "execution_count": null,
   "id": "68c24a54",
   "metadata": {},
   "outputs": [],
   "source": []
  }
 ],
 "metadata": {
  "kernelspec": {
   "display_name": "Python 3 (ipykernel)",
   "language": "python",
   "name": "python3"
  },
  "language_info": {
   "codemirror_mode": {
    "name": "ipython",
    "version": 3
   },
   "file_extension": ".py",
   "mimetype": "text/x-python",
   "name": "python",
   "nbconvert_exporter": "python",
   "pygments_lexer": "ipython3",
   "version": "3.11.4"
  }
 },
 "nbformat": 4,
 "nbformat_minor": 5
}
