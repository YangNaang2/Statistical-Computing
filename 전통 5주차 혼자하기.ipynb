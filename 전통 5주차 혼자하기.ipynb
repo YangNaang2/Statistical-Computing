{
 "cells": [
  {
   "cell_type": "code",
   "execution_count": 27,
   "id": "232767a6",
   "metadata": {},
   "outputs": [],
   "source": [
    "import numpy as np\n",
    "import seaborn as sns\n",
    "import matplotlib.pyplot as plt\n",
    "from scipy.stats import ttest_ind, ttest_rel"
   ]
  },
  {
   "cell_type": "code",
   "execution_count": 28,
   "id": "e05ba4c4",
   "metadata": {},
   "outputs": [],
   "source": [
    "can_data = np.array([101.8, 101.5, 102.6, 101, 101.8, 96.8, 102.4, 100, 98.8,\n",
    "                    98.1, 98.8, 98, 99.4, 95.5, 100.1, 100.5, 97.4, 100.2, 101.4,\n",
    "                    98.7, 101.4, 99.4, 101.7, 99, 99.7, 98.8, 99.5, 100, 99.7, 100.9,\n",
    "                    99.7, 99, 98.8, 99.7, 100.9, 99.9, 97.5, 101.5, 98.2, 99.2, 98.6,\n",
    "                    101.4, 102.1, 102.9, 100.8, 99.4, 103.7, 100.3, 100.2, 101.1, 101.8,\n",
    "                    100, 101.2, 100.5, 101.2, 101.6, 99.9, 100.5, 100.4, 98.1, 100.1,\n",
    "                    101.6, 99.3, 96.1, 100, 99.7, 99.7, 99.4, 101.5, 100.9, 101.2, \n",
    "                    99.9, 99.1, 100.7, 100.8, 100.8, 101.4, 100.3, 98.4, 97.2])"
   ]
  },
  {
   "cell_type": "code",
   "execution_count": 29,
   "id": "75774cf1",
   "metadata": {},
   "outputs": [
    {
     "name": "stdout",
     "output_type": "stream",
     "text": [
      "_________________Group A______________________\n",
      "[ 96.8  99.   99.7  99.7  99.7 100.8 100.   97.5  98.4  95.5 100.9 101.4\n",
      "  99.7 100.9  96.1]\n",
      "_________________Group B______________________\n",
      "[101.8  99.1  96.8 101.  100.  101.6 100.1 102.9 101.8 101.6  99.9  95.5\n",
      "  96.1 100.3 100.   97.2 100.8]\n"
     ]
    }
   ],
   "source": [
    "group_A = np.random.choice(can_data, 15, replace=True)\n",
    "group_B = np.random.choice(can_data, 17, replace=True)\n",
    "\n",
    "print(\"_________________Group A______________________\")\n",
    "print(group_A)\n",
    "print(\"_________________Group B______________________\")\n",
    "print(group_B)"
   ]
  },
  {
   "cell_type": "code",
   "execution_count": 30,
   "id": "4b470b3e",
   "metadata": {},
   "outputs": [
    {
     "name": "stdout",
     "output_type": "stream",
     "text": [
      "Test statistic is -1.0065\n",
      "P-value is 0.3222\n"
     ]
    }
   ],
   "source": [
    "t_stat, p_value = ttest_ind(group_A, group_B, equal_var=True, alternative = \"two-sided\")\n",
    "\n",
    "print(\"Test statistic is {}\".format(np.round(t_stat, 4)))\n",
    "print(\"P-value is {}\".format(np.round(p_value, 4)))"
   ]
  },
  {
   "cell_type": "code",
   "execution_count": 31,
   "id": "d4a89618",
   "metadata": {},
   "outputs": [
    {
     "name": "stdout",
     "output_type": "stream",
     "text": [
      "P-value is 0.1611\n"
     ]
    }
   ],
   "source": [
    "t_stat, p_value1 = ttest_ind(group_A, group_B, equal_var=True, alternative=\"less\")\n",
    "\n",
    "print(\"P-value is {}\".format(np.round(p_value1, 4)))"
   ]
  },
  {
   "cell_type": "code",
   "execution_count": 32,
   "id": "aef2cf45",
   "metadata": {},
   "outputs": [
    {
     "name": "stdout",
     "output_type": "stream",
     "text": [
      "P-value is 0.8389\n"
     ]
    }
   ],
   "source": [
    "t_stat, p_value2 = ttest_ind(group_A, group_B, equal_var = True, alternative = \"greater\")\n",
    "\n",
    "print(\"P-value is {}\".format(np.round(p_value2,4)))"
   ]
  },
  {
   "cell_type": "code",
   "execution_count": 33,
   "id": "bf8e18a2",
   "metadata": {},
   "outputs": [
    {
     "data": {
      "text/plain": [
       "<Axes: >"
      ]
     },
     "execution_count": 33,
     "metadata": {},
     "output_type": "execute_result"
    },
    {
     "data": {
      "image/png": "[encoded data removed]",
      "text/plain": [
       "<Figure size 640x480 with 1 Axes>"
      ]
     },
     "metadata": {},
     "output_type": "display_data"
    }
   ],
   "source": [
    "sns.boxplot(data=[group_A, group_B], orient='h', showmeans = True)"
   ]
  },
  {
   "cell_type": "code",
   "execution_count": 34,
   "id": "08745bbe",
   "metadata": {},
   "outputs": [],
   "source": [
    "midterm = np.array([80, 73, 70, 60, 88, 84, 65, 37, 91, 89, 52, 78, 40, 79, 59])\n",
    "final = np.array([82, 71, 95, 69, 100, 71, 75, 60, 95, 99, 65, 83, 60, 86, 62])"
   ]
  },
  {
   "cell_type": "code",
   "execution_count": 35,
   "id": "aba34789",
   "metadata": {},
   "outputs": [
    {
     "name": "stdout",
     "output_type": "stream",
     "text": [
      "Test statistic is -3.3886\n",
      "p-value is 0.0022\n"
     ]
    }
   ],
   "source": [
    "t_stat, p_value = ttest_rel(midterm, final, alternative = 'less')\n",
    "\n",
    "print(\"Test statistic is {}\".format(np.round(t_stat, 4)))\n",
    "print(\"p-value is {}\".format(np.round(p_value, 4)))"
   ]
  },
  {
   "cell_type": "code",
   "execution_count": 36,
   "id": "ee10887c",
   "metadata": {},
   "outputs": [
    {
     "data": {
      "text/plain": [
       "<Axes: >"
      ]
     },
     "execution_count": 36,
     "metadata": {},
     "output_type": "execute_result"
    },
    {
     "data": {
      "image/png": "[encoded data removed]",
      "text/plain": [
       "<Figure size 640x480 with 1 Axes>"
      ]
     },
     "metadata": {},
     "output_type": "display_data"
    }
   ],
   "source": [
    "sns.boxplot(data = [midterm, final], orient = 'v', showmeans = True)"
   ]
  },
  {
   "cell_type": "markdown",
   "id": "2454454c",
   "metadata": {},
   "source": [
    "### In a class A, 4 students were absent among 25 students, and 6 students were absent among 20 students in a class of B. Test if the absent proportion of the A class is less than that of B class at α=0.05 "
   ]
  },
  {
   "cell_type": "code",
   "execution_count": 37,
   "id": "52fc45c4",
   "metadata": {},
   "outputs": [],
   "source": [
    "from scipy.stats import norm\n",
    "\n",
    "def two_prop(x, n1, y, n2, alternative):\n",
    "    phat1 = x/n1\n",
    "    phat2 = y/n2\n",
    "    phat = (x+y)/(n1+n2)\n",
    "    \n",
    "    t_stat = (phat1 - phat2)/(np.sqrt(phat*(1-phat))*np.sqrt(1/n1+1/n2))\n",
    "    \n",
    "    if alternative == 'less':\n",
    "        p_value = norm.cdf(t_stat)\n",
    "    elif alternative == 'greater':\n",
    "        p_value = 1-norm.cdf(t_stat)\n",
    "    else:\n",
    "        p_value = 2*(1-norm.cdf(t_stat))\n",
    "    return t_stat, p_value"
   ]
  },
  {
   "cell_type": "code",
   "execution_count": 38,
   "id": "f51ae2a2",
   "metadata": {},
   "outputs": [
    {
     "name": "stdout",
     "output_type": "stream",
     "text": [
      "Test statistic is -1.1225\n",
      "P-value is 0.1308\n"
     ]
    }
   ],
   "source": [
    "t_stat, p_value = two_prop(4, 25, 6, 20, 'less')\n",
    "\n",
    "print(\"Test statistic is {}\".format(np.round(t_stat, 4)))\n",
    "print(\"P-value is {}\".format(np.round(p_value, 4)))"
   ]
  },
  {
   "cell_type": "markdown",
   "id": "b09f15a0",
   "metadata": {},
   "source": [
    "## Test if the two groups have equal variances at a=0.05"
   ]
  },
  {
   "cell_type": "code",
   "execution_count": 39,
   "id": "5788fba8",
   "metadata": {},
   "outputs": [
    {
     "name": "stdout",
     "output_type": "stream",
     "text": [
      "_________________Group A______________________\n",
      "[101.8 101.5 102.6 101.  101.8  96.8 102.4 100.   98.8  98.1]\n",
      "_________________Group B______________________\n",
      "[101.2  99.9  99.1 100.7 100.8 100.8 101.4 100.3  98.4  97.2]\n"
     ]
    }
   ],
   "source": [
    "group_A = can_data[0:10]\n",
    "group_B = can_data[-10:]\n",
    "\n",
    "print(\"_________________Group A______________________\")\n",
    "print(group_A)\n",
    "print(\"_________________Group B______________________\")\n",
    "print(group_B)"
   ]
  },
  {
   "cell_type": "code",
   "execution_count": 42,
   "id": "963fe6ba",
   "metadata": {},
   "outputs": [],
   "source": [
    "from scipy.stats import f\n",
    "\n",
    "def test_var2(x, y, alternative):\n",
    "    t_stat = np.var(x, ddof=1)/np.var(y, ddof=1)\n",
    "    df1 = len(x)-1\n",
    "    df2 = len(y)-1\n",
    "    \n",
    "    if alternative=='less':\n",
    "        p_value = f.cdf(t_stat, df1, df2)\n",
    "    elif alternative =='greater':\n",
    "        p_value = 1-f.cdf(t_stat, df1, df2)\n",
    "    else:\n",
    "        p_value = 2*(1-f.cdf(t_stat, df1, df2))\n",
    "    return t_stat, p_value"
   ]
  },
  {
   "cell_type": "code",
   "execution_count": 43,
   "id": "34475f7c",
   "metadata": {},
   "outputs": [
    {
     "name": "stdout",
     "output_type": "stream",
     "text": [
      "Test statistic is 2.1386\n",
      "P-value is 0.2729\n"
     ]
    }
   ],
   "source": [
    "t_stat, p_value = test_var2(group_A, group_B, alternative = 'two_sided')\n",
    "\n",
    "print(\"Test statistic is {}\".format(np.round(t_stat,4)))\n",
    "print(\"P-value is {}\".format(np.round(p_value, 4)))"
   ]
  },
  {
   "cell_type": "code",
   "execution_count": 44,
   "id": "8b672ddb",
   "metadata": {},
   "outputs": [
    {
     "name": "stdout",
     "output_type": "stream",
     "text": [
      "Test statistic is 1.2032\n",
      "P-value is 0.2727\n"
     ]
    }
   ],
   "source": [
    "from scipy.stats import bartlett\n",
    "\n",
    "out1 = bartlett(group_A, group_B)\n",
    "\n",
    "print(\"Test statistic is {}\".format(np.round(out1[0], 4)))\n",
    "print(\"P-value is {}\". format(np.round(out1[1], 4)))"
   ]
  },
  {
   "cell_type": "code",
   "execution_count": null,
   "id": "8948561b",
   "metadata": {},
   "outputs": [],
   "source": []
  }
 ],
 "metadata": {
  "kernelspec": {
   "display_name": "Python 3 (ipykernel)",
   "language": "python",
   "name": "python3"
  },
  "language_info": {
   "codemirror_mode": {
    "name": "ipython",
    "version": 3
   },
   "file_extension": ".py",
   "mimetype": "text/x-python",
   "name": "python",
   "nbconvert_exporter": "python",
   "pygments_lexer": "ipython3",
   "version": "3.11.4"
  }
 },
 "nbformat": 4,
 "nbformat_minor": 5
}
