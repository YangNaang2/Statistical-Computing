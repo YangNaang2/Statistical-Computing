{
 "cells": [
  {
   "cell_type": "code",
   "execution_count": 5,
   "id": "c413f822",
   "metadata": {},
   "outputs": [],
   "source": [
    "import numpy as np\n",
    "from scipy.stats import norm"
   ]
  },
  {
   "cell_type": "code",
   "execution_count": 6,
   "id": "b33d5267",
   "metadata": {},
   "outputs": [],
   "source": [
    "can_data = np.array([101.8, 101.5, 102.6, 101, 101.8, 96.8, 102.4, 100, 98.8,\n",
    "                    98.1, 98.8, 98, 99.4, 95.5, 100.1, 100.5, 97.4, 100.2, 101.4,\n",
    "                    98.7, 101.4, 99.4, 101.7, 99, 99.7, 98.8, 99.5, 100, 99.7, 100.9,\n",
    "                    99.7, 99, 98.8, 99.7, 100.9, 99.9, 97.5, 101.5, 98.2, 99.2, 98.6,\n",
    "                    101.4, 102.1, 102.9, 100.8, 99.4, 103.7, 100.3, 100.2, 101.1, 101.8,\n",
    "                    100, 101.2, 100.5, 101.2, 101.6, 99.9, 100.5, 100.4, 98.1, 100.1,\n",
    "                    101.6, 99.3, 96.1, 100, 99.7, 99.7, 99.4, 101.5, 100.9, 101.2, \n",
    "                    99.9, 99.1, 100.7, 100.8, 100.8, 101.4, 100.3, 98.4, 97.2])"
   ]
  },
  {
   "cell_type": "code",
   "execution_count": 8,
   "id": "27b58cf2",
   "metadata": {},
   "outputs": [
    {
     "name": "stdout",
     "output_type": "stream",
     "text": [
      "pont estimator of the mean is 100.04 \n",
      "95% confidence interval of the mean is 99.7053 and 100.3722\n",
      "length of 95% confidence inerval is 0.6669000000000125\n"
     ]
    }
   ],
   "source": [
    "n = len(can_data)\n",
    "can_mean = np.mean(can_data)\n",
    "can_std = np.std(can_data, ddof=1)\n",
    "\n",
    "ll = can_mean - norm(loc = 0, scale =1).ppf(0.975)*can_std/np.sqrt(n)\n",
    "ul = can_mean + norm(loc = 0, scale =1).ppf(0.975)*can_std/np.sqrt(n)\n",
    "\n",
    "print(\"point estimator of the mean is %.2f \" % can_mean)\n",
    "print(\"95% confidence interval of the mean is {} and {}\".format(np.round(ll, 4), np.round(ul, 4)))\n",
    "print(\"length of 95% confidence inerval is {}\".format(np.round(ul,4) - (np.round(ll,4))))"
   ]
  },
  {
   "cell_type": "code",
   "execution_count": null,
   "id": "4684903e",
   "metadata": {},
   "outputs": [],
   "source": []
  }
 ],
 "metadata": {
  "kernelspec": {
   "display_name": "Python 3 (ipykernel)",
   "language": "python",
   "name": "python3"
  },
  "language_info": {
   "codemirror_mode": {
    "name": "ipython",
    "version": 3
   },
   "file_extension": ".py",
   "mimetype": "text/x-python",
   "name": "python",
   "nbconvert_exporter": "python",
   "pygments_lexer": "ipython3",
   "version": "3.11.4"
  }
 },
 "nbformat": 4,
 "nbformat_minor": 5
}
