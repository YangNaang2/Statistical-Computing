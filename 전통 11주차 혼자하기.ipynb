{
 "cells": [
  {
   "cell_type": "code",
   "execution_count": 3,
   "id": "fbeb154a",
   "metadata": {},
   "outputs": [],
   "source": [
    "import numpy as np\n",
    "import pandas as pd\n",
    "\n",
    "from scipy.stats import chi2_contingency, fisher_exact\n",
    "from scipy.stats.contingency import expected_freq"
   ]
  },
  {
   "cell_type": "code",
   "execution_count": 4,
   "id": "0445f5aa",
   "metadata": {},
   "outputs": [
    {
     "data": {
      "text/html": [
       "<div>\n",
       "<style scoped>\n",
       "    .dataframe tbody tr th:only-of-type {\n",
       "        vertical-align: middle;\n",
       "    }\n",
       "\n",
       "    .dataframe tbody tr th {\n",
       "        vertical-align: top;\n",
       "    }\n",
       "\n",
       "    .dataframe thead th {\n",
       "        text-align: right;\n",
       "    }\n",
       "</style>\n",
       "<table border=\"1\" class=\"dataframe\">\n",
       "  <thead>\n",
       "    <tr style=\"text-align: right;\">\n",
       "      <th></th>\n",
       "      <th>Nation</th>\n",
       "      <th>Education</th>\n",
       "      <th>income_c</th>\n",
       "    </tr>\n",
       "  </thead>\n",
       "  <tbody>\n",
       "    <tr>\n",
       "      <th>0</th>\n",
       "      <td>Austria</td>\n",
       "      <td>High</td>\n",
       "      <td>Low</td>\n",
       "    </tr>\n",
       "    <tr>\n",
       "      <th>1</th>\n",
       "      <td>Norway</td>\n",
       "      <td>High</td>\n",
       "      <td>Low</td>\n",
       "    </tr>\n",
       "    <tr>\n",
       "      <th>2</th>\n",
       "      <td>Denmark</td>\n",
       "      <td>High</td>\n",
       "      <td>Low</td>\n",
       "    </tr>\n",
       "    <tr>\n",
       "      <th>3</th>\n",
       "      <td>Sweden</td>\n",
       "      <td>High</td>\n",
       "      <td>Low</td>\n",
       "    </tr>\n",
       "    <tr>\n",
       "      <th>4</th>\n",
       "      <td>Norway</td>\n",
       "      <td>College</td>\n",
       "      <td>Low</td>\n",
       "    </tr>\n",
       "  </tbody>\n",
       "</table>\n",
       "</div>"
      ],
      "text/plain": [
       "    Nation Education income_c\n",
       "0  Austria      High      Low\n",
       "1   Norway      High      Low\n",
       "2  Denmark      High      Low\n",
       "3   Sweden      High      Low\n",
       "4   Norway   College      Low"
      ]
     },
     "execution_count": 4,
     "metadata": {},
     "output_type": "execute_result"
    }
   ],
   "source": [
    "data1 = pd.read_csv('edu_income.csv')\n",
    "data1.head()"
   ]
  },
  {
   "cell_type": "code",
   "execution_count": 6,
   "id": "6bf2c0f8",
   "metadata": {},
   "outputs": [
    {
     "data": {
      "text/html": [
       "<div>\n",
       "<style scoped>\n",
       "    .dataframe tbody tr th:only-of-type {\n",
       "        vertical-align: middle;\n",
       "    }\n",
       "\n",
       "    .dataframe tbody tr th {\n",
       "        vertical-align: top;\n",
       "    }\n",
       "\n",
       "    .dataframe thead th {\n",
       "        text-align: right;\n",
       "    }\n",
       "</style>\n",
       "<table border=\"1\" class=\"dataframe\">\n",
       "  <thead>\n",
       "    <tr style=\"text-align: right;\">\n",
       "      <th>income_c</th>\n",
       "      <th>High</th>\n",
       "      <th>Low</th>\n",
       "      <th>Medium</th>\n",
       "    </tr>\n",
       "    <tr>\n",
       "      <th>Education</th>\n",
       "      <th></th>\n",
       "      <th></th>\n",
       "      <th></th>\n",
       "    </tr>\n",
       "  </thead>\n",
       "  <tbody>\n",
       "    <tr>\n",
       "      <th>College</th>\n",
       "      <td>5</td>\n",
       "      <td>7</td>\n",
       "      <td>20</td>\n",
       "    </tr>\n",
       "    <tr>\n",
       "      <th>Graduate</th>\n",
       "      <td>13</td>\n",
       "      <td>1</td>\n",
       "      <td>18</td>\n",
       "    </tr>\n",
       "    <tr>\n",
       "      <th>High</th>\n",
       "      <td>2</td>\n",
       "      <td>19</td>\n",
       "      <td>11</td>\n",
       "    </tr>\n",
       "  </tbody>\n",
       "</table>\n",
       "</div>"
      ],
      "text/plain": [
       "income_c   High  Low  Medium\n",
       "Education                   \n",
       "College       5    7      20\n",
       "Graduate     13    1      18\n",
       "High          2   19      11"
      ]
     },
     "execution_count": 6,
     "metadata": {},
     "output_type": "execute_result"
    }
   ],
   "source": [
    "observed_table = pd.crosstab(index = data1['Education'], columns = data1['income_c'], margins = False)\n",
    "observed_table"
   ]
  },
  {
   "cell_type": "code",
   "execution_count": 7,
   "id": "07b8ae0d",
   "metadata": {},
   "outputs": [
    {
     "data": {
      "text/plain": [
       "array([[ 6.66666667,  9.        , 16.33333333],\n",
       "       [ 6.66666667,  9.        , 16.33333333],\n",
       "       [ 6.66666667,  9.        , 16.33333333]])"
      ]
     },
     "execution_count": 7,
     "metadata": {},
     "output_type": "execute_result"
    }
   ],
   "source": [
    "expected_table = expected_freq(observed_table)\n",
    "expected_table"
   ]
  },
  {
   "cell_type": "code",
   "execution_count": 9,
   "id": "175831f8",
   "metadata": {},
   "outputs": [
    {
     "name": "stdout",
     "output_type": "stream",
     "text": [
      "___________________________\n",
      "Test statistic: 31.1014\n",
      "p-value : 2.91904786912222e-06\n",
      "degree of freedom: 4\n",
      "___________________________\n",
      "Expected frequencies: [[ 6.6667  9.     16.3333]\n",
      " [ 6.6667  9.     16.3333]\n",
      " [ 6.6667  9.     16.3333]]\n"
     ]
    }
   ],
   "source": [
    "Tstat, pvalue, dof, expected = chi2_contingency(observed_table)\n",
    "\n",
    "print(\"___________________________\")\n",
    "print(\"Test statistic:\", np.round(Tstat, 4))\n",
    "print(\"p-value :\", pvalue)\n",
    "print(\"degree of freedom:\", dof)\n",
    "print(\"___________________________\")\n",
    "\n",
    "print(\"Expected frequencies:\", np.round(expected, 4))"
   ]
  },
  {
   "cell_type": "code",
   "execution_count": 10,
   "id": "6076ebf4",
   "metadata": {},
   "outputs": [
    {
     "data": {
      "text/html": [
       "<div>\n",
       "<style scoped>\n",
       "    .dataframe tbody tr th:only-of-type {\n",
       "        vertical-align: middle;\n",
       "    }\n",
       "\n",
       "    .dataframe tbody tr th {\n",
       "        vertical-align: top;\n",
       "    }\n",
       "\n",
       "    .dataframe thead th {\n",
       "        text-align: right;\n",
       "    }\n",
       "</style>\n",
       "<table border=\"1\" class=\"dataframe\">\n",
       "  <thead>\n",
       "    <tr style=\"text-align: right;\">\n",
       "      <th></th>\n",
       "      <th>grade</th>\n",
       "      <th>status</th>\n",
       "      <th>observed</th>\n",
       "    </tr>\n",
       "  </thead>\n",
       "  <tbody>\n",
       "    <tr>\n",
       "      <th>0</th>\n",
       "      <td>G1</td>\n",
       "      <td>Attend</td>\n",
       "      <td>6</td>\n",
       "    </tr>\n",
       "    <tr>\n",
       "      <th>1</th>\n",
       "      <td>G1</td>\n",
       "      <td>Absent</td>\n",
       "      <td>48</td>\n",
       "    </tr>\n",
       "    <tr>\n",
       "      <th>2</th>\n",
       "      <td>G2</td>\n",
       "      <td>Attend</td>\n",
       "      <td>14</td>\n",
       "    </tr>\n",
       "    <tr>\n",
       "      <th>3</th>\n",
       "      <td>G2</td>\n",
       "      <td>Absent</td>\n",
       "      <td>32</td>\n",
       "    </tr>\n",
       "    <tr>\n",
       "      <th>4</th>\n",
       "      <td>G3</td>\n",
       "      <td>Attend</td>\n",
       "      <td>13</td>\n",
       "    </tr>\n",
       "  </tbody>\n",
       "</table>\n",
       "</div>"
      ],
      "text/plain": [
       "  grade  status  observed\n",
       "0    G1  Attend         6\n",
       "1    G1  Absent        48\n",
       "2    G2  Attend        14\n",
       "3    G2  Absent        32\n",
       "4    G3  Attend        13"
      ]
     },
     "execution_count": 10,
     "metadata": {},
     "output_type": "execute_result"
    }
   ],
   "source": [
    "grade_data = pd.DataFrame({'grade':['G1', 'G1', 'G2', 'G2', 'G3','G3', 'G4','G4'],\n",
    "                          'status':['Attend', 'Absent','Attend','Absent','Attend','Absent','Attend','Absent'],\n",
    "                          'observed':[6,48,14,32,13,47,7,33]})\n",
    "grade_data.head()"
   ]
  },
  {
   "cell_type": "code",
   "execution_count": 11,
   "id": "56a182c3",
   "metadata": {},
   "outputs": [
    {
     "data": {
      "text/html": [
       "<div>\n",
       "<style scoped>\n",
       "    .dataframe tbody tr th:only-of-type {\n",
       "        vertical-align: middle;\n",
       "    }\n",
       "\n",
       "    .dataframe tbody tr th {\n",
       "        vertical-align: top;\n",
       "    }\n",
       "\n",
       "    .dataframe thead tr th {\n",
       "        text-align: left;\n",
       "    }\n",
       "\n",
       "    .dataframe thead tr:last-of-type th {\n",
       "        text-align: right;\n",
       "    }\n",
       "</style>\n",
       "<table border=\"1\" class=\"dataframe\">\n",
       "  <thead>\n",
       "    <tr>\n",
       "      <th></th>\n",
       "      <th colspan=\"4\" halign=\"left\">observed</th>\n",
       "    </tr>\n",
       "    <tr>\n",
       "      <th>grade</th>\n",
       "      <th>G1</th>\n",
       "      <th>G2</th>\n",
       "      <th>G3</th>\n",
       "      <th>G4</th>\n",
       "    </tr>\n",
       "    <tr>\n",
       "      <th>status</th>\n",
       "      <th></th>\n",
       "      <th></th>\n",
       "      <th></th>\n",
       "      <th></th>\n",
       "    </tr>\n",
       "  </thead>\n",
       "  <tbody>\n",
       "    <tr>\n",
       "      <th>Absent</th>\n",
       "      <td>48</td>\n",
       "      <td>32</td>\n",
       "      <td>47</td>\n",
       "      <td>33</td>\n",
       "    </tr>\n",
       "    <tr>\n",
       "      <th>Attend</th>\n",
       "      <td>6</td>\n",
       "      <td>14</td>\n",
       "      <td>13</td>\n",
       "      <td>7</td>\n",
       "    </tr>\n",
       "  </tbody>\n",
       "</table>\n",
       "</div>"
      ],
      "text/plain": [
       "       observed            \n",
       "grade        G1  G2  G3  G4\n",
       "status                     \n",
       "Absent       48  32  47  33\n",
       "Attend        6  14  13   7"
      ]
     },
     "execution_count": 11,
     "metadata": {},
     "output_type": "execute_result"
    }
   ],
   "source": [
    "grade_table = pd.pivot_table(grade_data, values=['observed'], index=['status'],\n",
    "                            columns=['grade'], aggfunc = np.sum, margins = False)\n",
    "grade_table"
   ]
  },
  {
   "cell_type": "code",
   "execution_count": 12,
   "id": "a1588440",
   "metadata": {},
   "outputs": [
    {
     "name": "stdout",
     "output_type": "stream",
     "text": [
      "______________________\n",
      "Test statistic: 6.0575\n",
      "p-value: 0.1088\n",
      "degree of freedom : 3\n",
      "______________________\n"
     ]
    }
   ],
   "source": [
    "Tstat, pvalue, dof, expected = chi2_contingency(grade_table)\n",
    "\n",
    "print(\"______________________\")\n",
    "print(\"Test statistic:\", np.round(Tstat, 4))\n",
    "print(\"p-value:\", np.round(pvalue, 4))\n",
    "print(\"degree of freedom :\", dof)\n",
    "print(\"______________________\")\n"
   ]
  },
  {
   "cell_type": "code",
   "execution_count": 14,
   "id": "28180cde",
   "metadata": {},
   "outputs": [
    {
     "data": {
      "text/html": [
       "<div>\n",
       "<style scoped>\n",
       "    .dataframe tbody tr th:only-of-type {\n",
       "        vertical-align: middle;\n",
       "    }\n",
       "\n",
       "    .dataframe tbody tr th {\n",
       "        vertical-align: top;\n",
       "    }\n",
       "\n",
       "    .dataframe thead tr th {\n",
       "        text-align: left;\n",
       "    }\n",
       "\n",
       "    .dataframe thead tr:last-of-type th {\n",
       "        text-align: right;\n",
       "    }\n",
       "</style>\n",
       "<table border=\"1\" class=\"dataframe\">\n",
       "  <thead>\n",
       "    <tr>\n",
       "      <th></th>\n",
       "      <th colspan=\"2\" halign=\"left\">observed</th>\n",
       "    </tr>\n",
       "    <tr>\n",
       "      <th>ab</th>\n",
       "      <th>A</th>\n",
       "      <th>B</th>\n",
       "    </tr>\n",
       "    <tr>\n",
       "      <th>g12</th>\n",
       "      <th></th>\n",
       "      <th></th>\n",
       "    </tr>\n",
       "  </thead>\n",
       "  <tbody>\n",
       "    <tr>\n",
       "      <th>G1</th>\n",
       "      <td>1</td>\n",
       "      <td>8</td>\n",
       "    </tr>\n",
       "    <tr>\n",
       "      <th>G2</th>\n",
       "      <td>4</td>\n",
       "      <td>5</td>\n",
       "    </tr>\n",
       "  </tbody>\n",
       "</table>\n",
       "</div>"
      ],
      "text/plain": [
       "    observed   \n",
       "ab         A  B\n",
       "g12            \n",
       "G1         1  8\n",
       "G2         4  5"
      ]
     },
     "execution_count": 14,
     "metadata": {},
     "output_type": "execute_result"
    }
   ],
   "source": [
    "fisher_data = pd.DataFrame({'ab':['A','A','B','B'],\n",
    "                           'g12':['G1','G2','G1','G2'],\n",
    "                           'observed':[1,4,8,5]})\n",
    "fisher_table = pd.pivot_table(fisher_data, values=['observed'], index = ['g12'], columns=['ab'])\n",
    "fisher_table"
   ]
  },
  {
   "cell_type": "code",
   "execution_count": 15,
   "id": "d297d82d",
   "metadata": {},
   "outputs": [],
   "source": [
    "import math\n",
    "\n",
    "def observed_prob(table):\n",
    "    n, p= table.shape\n",
    "    out1 = 1\n",
    "    out2 = 1\n",
    "    tot_n = 0\n",
    "    \n",
    "    for i in range(n):\n",
    "        tot_n +=np.sum(table.iloc[i,:])\n",
    "        out1 +=math.factorial(np.sum(table.iloc[i,:]))\n",
    "        for j in range(p):\n",
    "            out2 += math.factorial(table.iloc[i,j])\n",
    "            \n",
    "    out2 += math.factorial(tot_n)\n",
    "    for j in range(p):\n",
    "        out1 += math.factorial(np.sum(table.iloc[:,j]))\n",
    "        \n",
    "    result = out1/out2\n",
    "    return result"
   ]
  },
  {
   "cell_type": "code",
   "execution_count": 16,
   "id": "9e03713b",
   "metadata": {},
   "outputs": [
    {
     "name": "stdout",
     "output_type": "stream",
     "text": [
      "observed probability: 9.727246435785014e-07\n"
     ]
    }
   ],
   "source": [
    "print(\"observed probability:\", observed_prob(fisher_table))"
   ]
  },
  {
   "cell_type": "code",
   "execution_count": 17,
   "id": "cad26cac",
   "metadata": {},
   "outputs": [
    {
     "name": "stdout",
     "output_type": "stream",
     "text": [
      "p-value: 0.2941\n"
     ]
    }
   ],
   "source": [
    "_, pvalue = fisher_exact(fisher_table, alternative = 'two-sided')\n",
    "print(\"p-value:\", np.round(pvalue, 4))"
   ]
  },
  {
   "cell_type": "code",
   "execution_count": null,
   "id": "6ffff0c1",
   "metadata": {},
   "outputs": [],
   "source": []
  }
 ],
 "metadata": {
  "kernelspec": {
   "display_name": "Python 3 (ipykernel)",
   "language": "python",
   "name": "python3"
  },
  "language_info": {
   "codemirror_mode": {
    "name": "ipython",
    "version": 3
   },
   "file_extension": ".py",
   "mimetype": "text/x-python",
   "name": "python",
   "nbconvert_exporter": "python",
   "pygments_lexer": "ipython3",
   "version": "3.11.4"
  }
 },
 "nbformat": 4,
 "nbformat_minor": 5
}
