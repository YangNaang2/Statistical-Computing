{
 "cells": [
  {
   "cell_type": "code",
   "execution_count": 3,
   "id": "84a8ec78",
   "metadata": {},
   "outputs": [],
   "source": [
    "import numpy as np\n",
    "import matplotlib.pyplot as plt\n",
    "from scipy.stats import ttest_1samp, norm, chi2"
   ]
  },
  {
   "cell_type": "code",
   "execution_count": 4,
   "id": "6b3b853c",
   "metadata": {},
   "outputs": [
    {
     "name": "stdout",
     "output_type": "stream",
     "text": [
      "[-2.63308013 -0.34625263 -1.72516444  1.42832338  0.023213   -0.71336007\n",
      "  0.20011195 -0.18146079  0.4615126   1.94256575  0.97042959 -0.31653979\n",
      " -0.16622652 -0.97986996  0.43281437  0.85396417  0.12779967  1.1528307\n",
      " -1.46817876 -0.73994054  0.34951685 -0.68707373  1.53527733  1.81706415\n",
      "  0.76650158  0.37308136  0.39680605 -0.38786317  1.04595525  1.22143774\n",
      "  0.21031683 -1.28783674  0.113235    0.13549546 -0.39412356 -0.26010372\n",
      " -0.5645194   0.60294036 -0.1393387   0.66319378  1.90143633 -0.28911441\n",
      " -1.52059112  1.90645897 -0.04282384  0.42550913  0.6862757   0.10339967\n",
      "  0.36975496 -1.09650127]\n"
     ]
    }
   ],
   "source": [
    "x1 = norm.rvs(size = 50)\n",
    "print(x1)"
   ]
  },
  {
   "cell_type": "code",
   "execution_count": 5,
   "id": "2e147d5a",
   "metadata": {},
   "outputs": [
    {
     "data": {
      "image/png": "[encoded data removed]",
      "text/plain": [
       "<Figure size 640x480 with 1 Axes>"
      ]
     },
     "metadata": {},
     "output_type": "display_data"
    }
   ],
   "source": [
    "x_axis = np.linspace(norm.ppf(0.01, loc = np.mean(x1), scale = np.std(x1, ddof=1)),\n",
    "                     norm.ppf(0.99, loc = np.mean(x1), scale = np.std(x1, ddof=1)))\n",
    "plt.hist(x1, bins = 30, density=True)\n",
    "plt.plot(x_axis, norm.pdf(x_axis, loc=np.mean(x1), scale=np.std(x1, ddof=1)), color='red')\n",
    "plt.show()"
   ]
  },
  {
   "cell_type": "code",
   "execution_count": 6,
   "id": "acc0dec7",
   "metadata": {},
   "outputs": [
    {
     "name": "stdout",
     "output_type": "stream",
     "text": [
      "Test statistic : -2.690233679974063\n",
      "Reject H0\n"
     ]
    }
   ],
   "source": [
    "def z_stat(x, popmean, alpha, alternative):\n",
    "    n = len(x)\n",
    "    z_value = (np.mean(x)-popmean)/(np.std(x, ddof=1)/np.sqrt(n))\n",
    "    print('Test statistic :', z_value)\n",
    "    \n",
    "    if alternative =='two-sided':\n",
    "        print('Reject H0') if np.abs(z_value)>norm.ppf(1-alpha/2) else print('Accept H0')\n",
    "    elif alternative == 'less':\n",
    "        print('Reject H0') if z_value<norm.ppf(alpha) else print('Accept H0')\n",
    "    else:\n",
    "        print('Reject H0') if z_value>norm.ppf(1-alpha) else print('Accept H0')\n",
    "        \n",
    "z_stat(x1, 0.5, 0.05, 'two-sided')"
   ]
  },
  {
   "cell_type": "code",
   "execution_count": 7,
   "id": "08057d53",
   "metadata": {},
   "outputs": [
    {
     "name": "stdout",
     "output_type": "stream",
     "text": [
      "[-0.26010372 -1.46817876 -0.68707373  0.10339967  1.90645897  0.6862757\n",
      "  1.1528307   1.81706415  0.39680605 -0.73994054 -0.73994054  0.34951685\n",
      "  1.22143774 -0.97986996  0.37308136  1.22143774  1.22143774  0.42550913\n",
      "  1.90645897  0.21031683  0.10339967 -0.16622652  1.53527733 -0.16622652\n",
      "  0.60294036]\n"
     ]
    }
   ],
   "source": [
    "small_x = np.random.choice(x1, 25, replace = True)\n",
    "print(small_x)"
   ]
  },
  {
   "cell_type": "code",
   "execution_count": 8,
   "id": "4ac95258",
   "metadata": {},
   "outputs": [
    {
     "data": {
      "text/plain": [
       "TtestResult(statistic=-0.5287240043830326, pvalue=0.3009264394945349, df=24)"
      ]
     },
     "execution_count": 8,
     "metadata": {},
     "output_type": "execute_result"
    }
   ],
   "source": [
    "ttest_1samp(small_x, popmean = 0.5, alternative = 'less')"
   ]
  },
  {
   "cell_type": "code",
   "execution_count": 9,
   "id": "e65fd355",
   "metadata": {},
   "outputs": [
    {
     "data": {
      "text/plain": [
       "TtestResult(statistic=-0.5287240043830326, pvalue=0.6990735605054652, df=24)"
      ]
     },
     "execution_count": 9,
     "metadata": {},
     "output_type": "execute_result"
    }
   ],
   "source": [
    "ttest_1samp(small_x, popmean = 0.5, alternative = 'greater')"
   ]
  },
  {
   "cell_type": "code",
   "execution_count": 10,
   "id": "a961e331",
   "metadata": {},
   "outputs": [
    {
     "data": {
      "text/plain": [
       "TtestResult(statistic=-0.5287240043830326, pvalue=0.6018528789890698, df=24)"
      ]
     },
     "execution_count": 10,
     "metadata": {},
     "output_type": "execute_result"
    }
   ],
   "source": [
    "ttest_1samp(small_x, popmean = 0.5, alternative = 'two-sided')"
   ]
  },
  {
   "cell_type": "markdown",
   "id": "0e9fc903",
   "metadata": {},
   "source": [
    "# A company found that failure rate of A product is 15%, and it could be improved if they changed the material of the product. They produced the product with new material, and found 54 failures out of 400 pieces of this product. Then do you think the failure rate decreased at 𝛼 = 0.05?"
   ]
  },
  {
   "cell_type": "code",
   "execution_count": 12,
   "id": "f25a0e14",
   "metadata": {},
   "outputs": [
    {
     "name": "stdout",
     "output_type": "stream",
     "text": [
      "Test statistic is -2.3525\n",
      "critical value is -1.6449\n",
      "H0 is rejected\n"
     ]
    }
   ],
   "source": [
    "phat = 54/500\n",
    "test_stat = (phat - 0.15)/np.sqrt(0.15*(1-0.15)/400)\n",
    "ll = norm.ppf(0.05, loc = 0, scale =1)\n",
    "\n",
    "print('Test statistic is {}'.format(np.round(test_stat, 4)))\n",
    "print('critical value is {}'.format(np.round(ll, 4)))\n",
    "print(\"H0 is rejected\" if test_stat < ll else print(\"H0 is accepted\"))"
   ]
  },
  {
   "cell_type": "markdown",
   "id": "93f6e33a",
   "metadata": {},
   "source": [
    "With ‘small_x’ data, test if the variance is greater than 1 at\n",
    "𝛼 = 0.05?"
   ]
  },
  {
   "cell_type": "code",
   "execution_count": 14,
   "id": "245a2def",
   "metadata": {},
   "outputs": [
    {
     "name": "stdout",
     "output_type": "stream",
     "text": [
      "Test statistic is -2.3525\n",
      "p-value is 1.0\n",
      "H0 is accepted\n",
      "None\n"
     ]
    }
   ],
   "source": [
    "s2 = np.var(small_x, ddof=1)\n",
    "n = len(small_x)\n",
    "test_Stat = (n-1)*s2\n",
    "p_val = 1-chi2.cdf(test_stat, n-1)\n",
    "\n",
    "print('Test statistic is {}'.format(np.round(test_stat, 4)))\n",
    "print('p-value is {}'.format(np.round(p_val, 4)))\n",
    "print(\"H0 is rejected\" if p_val < 0.05 else print(\"H0 is accepted\"))"
   ]
  },
  {
   "cell_type": "code",
   "execution_count": null,
   "id": "a622d41d",
   "metadata": {},
   "outputs": [],
   "source": []
  }
 ],
 "metadata": {
  "kernelspec": {
   "display_name": "Python 3 (ipykernel)",
   "language": "python",
   "name": "python3"
  },
  "language_info": {
   "codemirror_mode": {
    "name": "ipython",
    "version": 3
   },
   "file_extension": ".py",
   "mimetype": "text/x-python",
   "name": "python",
   "nbconvert_exporter": "python",
   "pygments_lexer": "ipython3",
   "version": "3.11.4"
  }
 },
 "nbformat": 4,
 "nbformat_minor": 5
}
