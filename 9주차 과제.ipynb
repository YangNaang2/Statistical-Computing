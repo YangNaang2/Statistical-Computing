{
 "cells": [
  {
   "cell_type": "code",
   "execution_count": 1,
   "id": "fb691ed9",
   "metadata": {},
   "outputs": [],
   "source": [
    "import numpy as np\n",
    "import pandas as pd"
   ]
  },
  {
   "cell_type": "code",
   "execution_count": 2,
   "id": "af0024e9",
   "metadata": {},
   "outputs": [
    {
     "data": {
      "text/html": [
       "<div>\n",
       "<style scoped>\n",
       "    .dataframe tbody tr th:only-of-type {\n",
       "        vertical-align: middle;\n",
       "    }\n",
       "\n",
       "    .dataframe tbody tr th {\n",
       "        vertical-align: top;\n",
       "    }\n",
       "\n",
       "    .dataframe thead th {\n",
       "        text-align: right;\n",
       "    }\n",
       "</style>\n",
       "<table border=\"1\" class=\"dataframe\">\n",
       "  <thead>\n",
       "    <tr style=\"text-align: right;\">\n",
       "      <th></th>\n",
       "      <th>Label</th>\n",
       "      <th>alcohol</th>\n",
       "      <th>malic_acid</th>\n",
       "      <th>ash</th>\n",
       "      <th>alcalinity</th>\n",
       "      <th>magnesium</th>\n",
       "      <th>total_phenols</th>\n",
       "      <th>flavanoids</th>\n",
       "      <th>nonflavanoids_phenols</th>\n",
       "      <th>proanthocyanins</th>\n",
       "      <th>color</th>\n",
       "      <th>hue</th>\n",
       "      <th>od280_315</th>\n",
       "      <th>proline</th>\n",
       "    </tr>\n",
       "  </thead>\n",
       "  <tbody>\n",
       "    <tr>\n",
       "      <th>0</th>\n",
       "      <td>0</td>\n",
       "      <td>12.37</td>\n",
       "      <td>0.94</td>\n",
       "      <td>1.36</td>\n",
       "      <td>10.6</td>\n",
       "      <td>88</td>\n",
       "      <td>1.98</td>\n",
       "      <td>0.57</td>\n",
       "      <td>0.28</td>\n",
       "      <td>0.42</td>\n",
       "      <td>1.95</td>\n",
       "      <td>1.05</td>\n",
       "      <td>1.82</td>\n",
       "      <td>520</td>\n",
       "    </tr>\n",
       "    <tr>\n",
       "      <th>1</th>\n",
       "      <td>0</td>\n",
       "      <td>12.33</td>\n",
       "      <td>1.10</td>\n",
       "      <td>2.28</td>\n",
       "      <td>16.0</td>\n",
       "      <td>101</td>\n",
       "      <td>2.05</td>\n",
       "      <td>1.09</td>\n",
       "      <td>0.63</td>\n",
       "      <td>0.41</td>\n",
       "      <td>3.27</td>\n",
       "      <td>1.25</td>\n",
       "      <td>1.67</td>\n",
       "      <td>680</td>\n",
       "    </tr>\n",
       "    <tr>\n",
       "      <th>2</th>\n",
       "      <td>0</td>\n",
       "      <td>12.64</td>\n",
       "      <td>1.36</td>\n",
       "      <td>2.02</td>\n",
       "      <td>16.8</td>\n",
       "      <td>100</td>\n",
       "      <td>2.02</td>\n",
       "      <td>1.41</td>\n",
       "      <td>0.53</td>\n",
       "      <td>0.62</td>\n",
       "      <td>5.75</td>\n",
       "      <td>0.98</td>\n",
       "      <td>1.59</td>\n",
       "      <td>450</td>\n",
       "    </tr>\n",
       "    <tr>\n",
       "      <th>3</th>\n",
       "      <td>0</td>\n",
       "      <td>13.67</td>\n",
       "      <td>1.25</td>\n",
       "      <td>1.92</td>\n",
       "      <td>18.0</td>\n",
       "      <td>94</td>\n",
       "      <td>2.10</td>\n",
       "      <td>1.79</td>\n",
       "      <td>0.32</td>\n",
       "      <td>0.73</td>\n",
       "      <td>3.80</td>\n",
       "      <td>1.23</td>\n",
       "      <td>2.46</td>\n",
       "      <td>630</td>\n",
       "    </tr>\n",
       "    <tr>\n",
       "      <th>4</th>\n",
       "      <td>0</td>\n",
       "      <td>12.37</td>\n",
       "      <td>1.13</td>\n",
       "      <td>2.16</td>\n",
       "      <td>19.0</td>\n",
       "      <td>87</td>\n",
       "      <td>3.50</td>\n",
       "      <td>3.10</td>\n",
       "      <td>0.19</td>\n",
       "      <td>1.87</td>\n",
       "      <td>4.45</td>\n",
       "      <td>1.22</td>\n",
       "      <td>2.87</td>\n",
       "      <td>420</td>\n",
       "    </tr>\n",
       "  </tbody>\n",
       "</table>\n",
       "</div>"
      ],
      "text/plain": [
       "   Label  alcohol  malic_acid   ash  alcalinity  magnesium  total_phenols  \\\n",
       "0      0    12.37        0.94  1.36        10.6         88           1.98   \n",
       "1      0    12.33        1.10  2.28        16.0        101           2.05   \n",
       "2      0    12.64        1.36  2.02        16.8        100           2.02   \n",
       "3      0    13.67        1.25  1.92        18.0         94           2.10   \n",
       "4      0    12.37        1.13  2.16        19.0         87           3.50   \n",
       "\n",
       "   flavanoids  nonflavanoids_phenols  proanthocyanins  color   hue  od280_315  \\\n",
       "0        0.57                   0.28             0.42   1.95  1.05       1.82   \n",
       "1        1.09                   0.63             0.41   3.27  1.25       1.67   \n",
       "2        1.41                   0.53             0.62   5.75  0.98       1.59   \n",
       "3        1.79                   0.32             0.73   3.80  1.23       2.46   \n",
       "4        3.10                   0.19             1.87   4.45  1.22       2.87   \n",
       "\n",
       "   proline  \n",
       "0      520  \n",
       "1      680  \n",
       "2      450  \n",
       "3      630  \n",
       "4      420  "
      ]
     },
     "execution_count": 2,
     "metadata": {},
     "output_type": "execute_result"
    }
   ],
   "source": [
    "data1 = pd.read_csv(\"home_wine.csv\")\n",
    "data1.head()"
   ]
  },
  {
   "cell_type": "code",
   "execution_count": 3,
   "id": "e780a545",
   "metadata": {},
   "outputs": [],
   "source": [
    "from sklearn.model_selection import train_test_split\n",
    "\n",
    "x_train, x_test, y_train, y_test = train_test_split(data1[['alcohol', 'malic_acid', 'ash', 'alcalinity', 'magnesium', 'total_phenols', 'flavanoids', 'nonflavanoids_phenols', 'proanthocyanins', 'color', 'hue', 'od280_315', 'proline']], data1['Label'], test_size = 0.3, shuffle = True, stratify=data1['Label'])"
   ]
  },
  {
   "cell_type": "code",
   "execution_count": 4,
   "id": "69717d1f",
   "metadata": {},
   "outputs": [
    {
     "name": "stdout",
     "output_type": "stream",
     "text": [
      "The dimension of the trainset is  (83, 13)\n",
      "The dimension of the testset is (36, 13)\n"
     ]
    }
   ],
   "source": [
    "print(\"The dimension of the trainset is \", x_train.shape)\n",
    "print(\"The dimension of the testset is\", x_test.shape)"
   ]
  },
  {
   "cell_type": "code",
   "execution_count": 5,
   "id": "3f9dc6cd",
   "metadata": {},
   "outputs": [],
   "source": [
    "from sklearn.preprocessing import StandardScaler, OneHotEncoder\n",
    "\n",
    "scaler = StandardScaler()\n",
    "xtrain_scaled = scaler.fit_transform(x_train)\n",
    "xtest_scaled = scaler.fit_transform(x_test)"
   ]
  },
  {
   "cell_type": "code",
   "execution_count": 6,
   "id": "cccc7bf4",
   "metadata": {},
   "outputs": [],
   "source": [
    "from sklearn.linear_model import LogisticRegression\n",
    "\n",
    "model1 = LogisticRegression(tol=1e-06).fit(xtrain_scaled,y_train)"
   ]
  },
  {
   "cell_type": "code",
   "execution_count": 7,
   "id": "a74545a5",
   "metadata": {},
   "outputs": [
    {
     "data": {
      "text/plain": [
       "array([[3.71780623e-03, 9.96282194e-01],\n",
       "       [9.93066240e-01, 6.93376027e-03],\n",
       "       [4.89915612e-02, 9.51008439e-01],\n",
       "       [4.88485796e-03, 9.95115142e-01],\n",
       "       [3.71657085e-03, 9.96283429e-01],\n",
       "       [9.83731363e-01, 1.62686370e-02],\n",
       "       [9.96471122e-01, 3.52887831e-03],\n",
       "       [9.99888530e-01, 1.11470303e-04],\n",
       "       [9.99267709e-01, 7.32290726e-04],\n",
       "       [9.97565935e-01, 2.43406548e-03],\n",
       "       [9.99456254e-01, 5.43746295e-04],\n",
       "       [9.96685782e-01, 3.31421837e-03],\n",
       "       [6.65982679e-03, 9.93340173e-01],\n",
       "       [1.06185164e-02, 9.89381484e-01],\n",
       "       [4.46623156e-01, 5.53376844e-01],\n",
       "       [1.64329745e-02, 9.83567026e-01],\n",
       "       [9.98702844e-01, 1.29715615e-03],\n",
       "       [9.98908926e-01, 1.09107363e-03],\n",
       "       [9.99089994e-01, 9.10006410e-04],\n",
       "       [2.14453484e-03, 9.97855465e-01],\n",
       "       [6.38294925e-01, 3.61705075e-01],\n",
       "       [9.64442013e-01, 3.55579870e-02],\n",
       "       [6.61701258e-03, 9.93382987e-01],\n",
       "       [9.99965613e-01, 3.43871328e-05],\n",
       "       [1.07755326e-02, 9.89224467e-01],\n",
       "       [4.14214821e-02, 9.58578518e-01],\n",
       "       [9.98522168e-01, 1.47783165e-03],\n",
       "       [8.60172816e-02, 9.13982718e-01],\n",
       "       [7.73820674e-02, 9.22617933e-01],\n",
       "       [9.66053658e-01, 3.39463419e-02],\n",
       "       [1.48489676e-02, 9.85151032e-01],\n",
       "       [9.99543386e-01, 4.56614149e-04],\n",
       "       [9.99903090e-01, 9.69104171e-05],\n",
       "       [9.01793393e-01, 9.82066070e-02],\n",
       "       [9.98752392e-01, 1.24760811e-03],\n",
       "       [9.88245068e-01, 1.17549320e-02]])"
      ]
     },
     "execution_count": 7,
     "metadata": {},
     "output_type": "execute_result"
    }
   ],
   "source": [
    "model1.predict_proba(xtest_scaled)"
   ]
  },
  {
   "cell_type": "code",
   "execution_count": 8,
   "id": "265c002b",
   "metadata": {},
   "outputs": [
    {
     "name": "stdout",
     "output_type": "stream",
     "text": [
      "predicted labels are  [1 0 1 1 1 0 0 0 0 0 0 0 1 1 1 1 0 0 0 1 0 0 1 0 1 1 0 1 1 0 1 0 0 0 0 0]\n"
     ]
    }
   ],
   "source": [
    "y_pred = model1.predict(xtest_scaled)\n",
    "print(\"predicted labels are \", y_pred)"
   ]
  },
  {
   "cell_type": "code",
   "execution_count": 9,
   "id": "3b6fc532",
   "metadata": {},
   "outputs": [
    {
     "name": "stdout",
     "output_type": "stream",
     "text": [
      "[[21  0]\n",
      " [ 0 15]]\n"
     ]
    }
   ],
   "source": [
    "from sklearn import metrics\n",
    "\n",
    "confusion_matrix = metrics.confusion_matrix(y_test, y_pred)\n",
    "print(confusion_matrix)"
   ]
  },
  {
   "cell_type": "code",
   "execution_count": 10,
   "id": "af96a2e9",
   "metadata": {},
   "outputs": [
    {
     "name": "stdout",
     "output_type": "stream",
     "text": [
      "              precision    recall  f1-score   support\n",
      "\n",
      "     class 1       1.00      1.00      1.00        21\n",
      "     class 2       1.00      1.00      1.00        15\n",
      "\n",
      "    accuracy                           1.00        36\n",
      "   macro avg       1.00      1.00      1.00        36\n",
      "weighted avg       1.00      1.00      1.00        36\n",
      "\n"
     ]
    }
   ],
   "source": [
    "print(metrics.classification_report(y_test, y_pred, target_names = ['class 1', 'class 2']))"
   ]
  },
  {
   "cell_type": "code",
   "execution_count": null,
   "id": "b3e9d56f",
   "metadata": {},
   "outputs": [],
   "source": []
  }
 ],
 "metadata": {
  "kernelspec": {
   "display_name": "Python 3 (ipykernel)",
   "language": "python",
   "name": "python3"
  },
  "language_info": {
   "codemirror_mode": {
    "name": "ipython",
    "version": 3
   },
   "file_extension": ".py",
   "mimetype": "text/x-python",
   "name": "python",
   "nbconvert_exporter": "python",
   "pygments_lexer": "ipython3",
   "version": "3.11.4"
  }
 },
 "nbformat": 4,
 "nbformat_minor": 5
}
