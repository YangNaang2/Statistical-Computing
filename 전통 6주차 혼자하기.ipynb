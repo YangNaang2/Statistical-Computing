{
 "cells": [
  {
   "cell_type": "markdown",
   "id": "3acb254f",
   "metadata": {},
   "source": [
    "# Diamond cuts are categorized into 5 as “Premium”, “Fair”,“Good”, “Very Good” and “Ideal”. Test using ANOVA whether the prices of diamonds are different by the ‘cut’ of them at 𝛼 = 0.05."
   ]
  },
  {
   "cell_type": "code",
   "execution_count": 1,
   "id": "5bdde075",
   "metadata": {},
   "outputs": [],
   "source": [
    "import numpy as np\n",
    "import pandas as pd\n",
    "import matplotlib.pyplot as plt"
   ]
  },
  {
   "cell_type": "code",
   "execution_count": 4,
   "id": "b3e41dd4",
   "metadata": {},
   "outputs": [
    {
     "data": {
      "text/html": [
       "<div>\n",
       "<style scoped>\n",
       "    .dataframe tbody tr th:only-of-type {\n",
       "        vertical-align: middle;\n",
       "    }\n",
       "\n",
       "    .dataframe tbody tr th {\n",
       "        vertical-align: top;\n",
       "    }\n",
       "\n",
       "    .dataframe thead th {\n",
       "        text-align: right;\n",
       "    }\n",
       "</style>\n",
       "<table border=\"1\" class=\"dataframe\">\n",
       "  <thead>\n",
       "    <tr style=\"text-align: right;\">\n",
       "      <th></th>\n",
       "      <th>carat</th>\n",
       "      <th>cut</th>\n",
       "      <th>color</th>\n",
       "      <th>clarity</th>\n",
       "      <th>depth</th>\n",
       "      <th>table</th>\n",
       "      <th>price</th>\n",
       "      <th>x</th>\n",
       "      <th>y</th>\n",
       "      <th>z</th>\n",
       "    </tr>\n",
       "  </thead>\n",
       "  <tbody>\n",
       "    <tr>\n",
       "      <th>1</th>\n",
       "      <td>0.23</td>\n",
       "      <td>Ideal</td>\n",
       "      <td>E</td>\n",
       "      <td>SI2</td>\n",
       "      <td>61.5</td>\n",
       "      <td>55.0</td>\n",
       "      <td>326</td>\n",
       "      <td>3.95</td>\n",
       "      <td>3.98</td>\n",
       "      <td>2.43</td>\n",
       "    </tr>\n",
       "    <tr>\n",
       "      <th>2</th>\n",
       "      <td>0.21</td>\n",
       "      <td>Premium</td>\n",
       "      <td>E</td>\n",
       "      <td>SI1</td>\n",
       "      <td>59.8</td>\n",
       "      <td>61.0</td>\n",
       "      <td>326</td>\n",
       "      <td>3.89</td>\n",
       "      <td>3.84</td>\n",
       "      <td>2.31</td>\n",
       "    </tr>\n",
       "    <tr>\n",
       "      <th>3</th>\n",
       "      <td>0.23</td>\n",
       "      <td>Good</td>\n",
       "      <td>E</td>\n",
       "      <td>VS1</td>\n",
       "      <td>56.9</td>\n",
       "      <td>65.0</td>\n",
       "      <td>327</td>\n",
       "      <td>4.05</td>\n",
       "      <td>4.07</td>\n",
       "      <td>2.31</td>\n",
       "    </tr>\n",
       "    <tr>\n",
       "      <th>4</th>\n",
       "      <td>0.29</td>\n",
       "      <td>Premium</td>\n",
       "      <td>I</td>\n",
       "      <td>VS2</td>\n",
       "      <td>62.4</td>\n",
       "      <td>58.0</td>\n",
       "      <td>334</td>\n",
       "      <td>4.20</td>\n",
       "      <td>4.23</td>\n",
       "      <td>2.63</td>\n",
       "    </tr>\n",
       "    <tr>\n",
       "      <th>5</th>\n",
       "      <td>0.31</td>\n",
       "      <td>Good</td>\n",
       "      <td>J</td>\n",
       "      <td>SI2</td>\n",
       "      <td>63.3</td>\n",
       "      <td>58.0</td>\n",
       "      <td>335</td>\n",
       "      <td>4.34</td>\n",
       "      <td>4.35</td>\n",
       "      <td>2.75</td>\n",
       "    </tr>\n",
       "  </tbody>\n",
       "</table>\n",
       "</div>"
      ],
      "text/plain": [
       "   carat      cut color clarity  depth  table  price     x     y     z\n",
       "1   0.23    Ideal     E     SI2   61.5   55.0    326  3.95  3.98  2.43\n",
       "2   0.21  Premium     E     SI1   59.8   61.0    326  3.89  3.84  2.31\n",
       "3   0.23     Good     E     VS1   56.9   65.0    327  4.05  4.07  2.31\n",
       "4   0.29  Premium     I     VS2   62.4   58.0    334  4.20  4.23  2.63\n",
       "5   0.31     Good     J     SI2   63.3   58.0    335  4.34  4.35  2.75"
      ]
     },
     "execution_count": 4,
     "metadata": {},
     "output_type": "execute_result"
    }
   ],
   "source": [
    "data1 = pd.read_csv('https://raw.githubusercontent.com/Datamanim/dataq/main/diamonds.csv', index_col=0)\n",
    "data1.head()"
   ]
  },
  {
   "cell_type": "markdown",
   "id": "bb53564c",
   "metadata": {},
   "source": [
    "## Observe the response values by the 'cut' using groupby()"
   ]
  },
  {
   "cell_type": "code",
   "execution_count": 6,
   "id": "5ccc89e9",
   "metadata": {},
   "outputs": [
    {
     "data": {
      "text/html": [
       "<div>\n",
       "<style scoped>\n",
       "    .dataframe tbody tr th:only-of-type {\n",
       "        vertical-align: middle;\n",
       "    }\n",
       "\n",
       "    .dataframe tbody tr th {\n",
       "        vertical-align: top;\n",
       "    }\n",
       "\n",
       "    .dataframe thead tr th {\n",
       "        text-align: left;\n",
       "    }\n",
       "\n",
       "    .dataframe thead tr:last-of-type th {\n",
       "        text-align: right;\n",
       "    }\n",
       "</style>\n",
       "<table border=\"1\" class=\"dataframe\">\n",
       "  <thead>\n",
       "    <tr>\n",
       "      <th></th>\n",
       "      <th colspan=\"4\" halign=\"left\">price</th>\n",
       "    </tr>\n",
       "    <tr>\n",
       "      <th></th>\n",
       "      <th>mean</th>\n",
       "      <th>std</th>\n",
       "      <th>min</th>\n",
       "      <th>max</th>\n",
       "    </tr>\n",
       "    <tr>\n",
       "      <th>cut</th>\n",
       "      <th></th>\n",
       "      <th></th>\n",
       "      <th></th>\n",
       "      <th></th>\n",
       "    </tr>\n",
       "  </thead>\n",
       "  <tbody>\n",
       "    <tr>\n",
       "      <th>Fair</th>\n",
       "      <td>4358.757764</td>\n",
       "      <td>3560.386612</td>\n",
       "      <td>337</td>\n",
       "      <td>18574</td>\n",
       "    </tr>\n",
       "    <tr>\n",
       "      <th>Good</th>\n",
       "      <td>3928.864452</td>\n",
       "      <td>3681.589584</td>\n",
       "      <td>327</td>\n",
       "      <td>18788</td>\n",
       "    </tr>\n",
       "    <tr>\n",
       "      <th>Ideal</th>\n",
       "      <td>3457.541970</td>\n",
       "      <td>3808.401172</td>\n",
       "      <td>326</td>\n",
       "      <td>18806</td>\n",
       "    </tr>\n",
       "    <tr>\n",
       "      <th>Premium</th>\n",
       "      <td>4584.257704</td>\n",
       "      <td>4349.204961</td>\n",
       "      <td>326</td>\n",
       "      <td>18823</td>\n",
       "    </tr>\n",
       "    <tr>\n",
       "      <th>Very Good</th>\n",
       "      <td>3981.759891</td>\n",
       "      <td>3935.862161</td>\n",
       "      <td>336</td>\n",
       "      <td>18818</td>\n",
       "    </tr>\n",
       "  </tbody>\n",
       "</table>\n",
       "</div>"
      ],
      "text/plain": [
       "                 price                         \n",
       "                  mean          std  min    max\n",
       "cut                                            \n",
       "Fair       4358.757764  3560.386612  337  18574\n",
       "Good       3928.864452  3681.589584  327  18788\n",
       "Ideal      3457.541970  3808.401172  326  18806\n",
       "Premium    4584.257704  4349.204961  326  18823\n",
       "Very Good  3981.759891  3935.862161  336  18818"
      ]
     },
     "execution_count": 6,
     "metadata": {},
     "output_type": "execute_result"
    }
   ],
   "source": [
    "data1.groupby(\"cut\").agg({'price':['mean', 'std', 'min', 'max']})"
   ]
  },
  {
   "cell_type": "code",
   "execution_count": 7,
   "id": "b2786ee7",
   "metadata": {},
   "outputs": [
    {
     "data": {
      "text/plain": [
       "Text(0.5, 1.0, 'Boxplot about the price grouped by cut')"
      ]
     },
     "execution_count": 7,
     "metadata": {},
     "output_type": "execute_result"
    },
    {
     "data": {
      "image/png": "[encoded data removed]",
      "text/plain": [
       "<Figure size 640x480 with 1 Axes>"
      ]
     },
     "metadata": {},
     "output_type": "display_data"
    }
   ],
   "source": [
    "data1.boxplot(\"price\", by = \"cut\")\n",
    "plt.title(\"Boxplot about the price grouped by cut\")"
   ]
  },
  {
   "cell_type": "markdown",
   "id": "5a9a793c",
   "metadata": {},
   "source": [
    "## ANOVA table"
   ]
  },
  {
   "cell_type": "code",
   "execution_count": 8,
   "id": "30f13c95",
   "metadata": {},
   "outputs": [],
   "source": [
    "import statsmodels.formula.api as smf\n",
    "import statsmodels.api as sm"
   ]
  },
  {
   "cell_type": "code",
   "execution_count": 9,
   "id": "337452a0",
   "metadata": {},
   "outputs": [
    {
     "name": "stdout",
     "output_type": "stream",
     "text": [
      "                  df        sum_sq       mean_sq           F         PR(>F)\n",
      "C(cut, Sum)      4.0  1.104175e+10  2.760436e+09  175.688717  8.428307e-150\n",
      "Residual     53935.0  8.474314e+11  1.571209e+07         NaN            NaN\n"
     ]
    }
   ],
   "source": [
    "price_fit = smf.ols(\"price~C(cut,Sum)\", data = data1).fit()\n",
    "table1 = sm.stats.anova_lm(price_fit)\n",
    "print(table1)"
   ]
  },
  {
   "cell_type": "code",
   "execution_count": 10,
   "id": "19d107b6",
   "metadata": {},
   "outputs": [
    {
     "data": {
      "text/html": [
       "<table class=\"simpletable\">\n",
       "<caption>Test Multiple Comparison ttest_ind \n",
       "FWER=0.05 method=bonf\n",
       "alphacSidak=0.01, alphacBonf=0.005</caption>\n",
       "<tr>\n",
       "  <th>group1</th>   <th>group2</th>     <th>stat</th>    <th>pval</th>  <th>pval_corr</th> <th>reject</th>\n",
       "</tr>\n",
       "<tr>\n",
       "   <td>Fair</td>     <td>Good</td>     <td>4.0984</td>    <td>0.0</td>   <td>0.0004</td>    <td>True</td> \n",
       "</tr>\n",
       "<tr>\n",
       "   <td>Fair</td>     <td>Ideal</td>    <td>9.1995</td>    <td>0.0</td>     <td>0.0</td>     <td>True</td> \n",
       "</tr>\n",
       "<tr>\n",
       "   <td>Fair</td>    <td>Premium</td>   <td>-2.0035</td> <td>0.0451</td>  <td>0.4514</td>    <td>False</td>\n",
       "</tr>\n",
       "<tr>\n",
       "   <td>Fair</td>   <td>Very Good</td>  <td>3.6495</td>  <td>0.0003</td>  <td>0.0026</td>    <td>True</td> \n",
       "</tr>\n",
       "<tr>\n",
       "   <td>Good</td>     <td>Ideal</td>    <td>7.8715</td>    <td>0.0</td>     <td>0.0</td>     <td>True</td> \n",
       "</tr>\n",
       "<tr>\n",
       "   <td>Good</td>    <td>Premium</td>   <td>-9.4221</td>   <td>0.0</td>     <td>0.0</td>     <td>True</td> \n",
       "</tr>\n",
       "<tr>\n",
       "   <td>Good</td>   <td>Very Good</td>  <td>-0.8086</td> <td>0.4188</td>    <td>1.0</td>     <td>False</td>\n",
       "</tr>\n",
       "<tr>\n",
       "   <td>Ideal</td>   <td>Premium</td>  <td>-25.6509</td>   <td>0.0</td>     <td>0.0</td>     <td>True</td> \n",
       "</tr>\n",
       "<tr>\n",
       "   <td>Ideal</td>  <td>Very Good</td> <td>-11.9659</td>   <td>0.0</td>     <td>0.0</td>     <td>True</td> \n",
       "</tr>\n",
       "<tr>\n",
       "  <td>Premium</td> <td>Very Good</td>  <td>11.619</td>    <td>0.0</td>     <td>0.0</td>     <td>True</td> \n",
       "</tr>\n",
       "</table>"
      ],
      "text/latex": [
       "\\begin{center}\n",
       "\\begin{tabular}{cccccc}\n",
       "\\toprule\n",
       "\\textbf{group1} & \\textbf{group2} & \\textbf{stat} & \\textbf{pval} & \\textbf{pval\\_corr} & \\textbf{reject}  \\\\\n",
       "\\midrule\n",
       "      Fair      &       Good      &     4.0984    &      0.0      &        0.0004       &       True       \\\\\n",
       "      Fair      &      Ideal      &     9.1995    &      0.0      &         0.0         &       True       \\\\\n",
       "      Fair      &     Premium     &    -2.0035    &     0.0451    &        0.4514       &      False       \\\\\n",
       "      Fair      &    Very Good    &     3.6495    &     0.0003    &        0.0026       &       True       \\\\\n",
       "      Good      &      Ideal      &     7.8715    &      0.0      &         0.0         &       True       \\\\\n",
       "      Good      &     Premium     &    -9.4221    &      0.0      &         0.0         &       True       \\\\\n",
       "      Good      &    Very Good    &    -0.8086    &     0.4188    &         1.0         &      False       \\\\\n",
       "     Ideal      &     Premium     &    -25.6509   &      0.0      &         0.0         &       True       \\\\\n",
       "     Ideal      &    Very Good    &    -11.9659   &      0.0      &         0.0         &       True       \\\\\n",
       "    Premium     &    Very Good    &     11.619    &      0.0      &         0.0         &       True       \\\\\n",
       "\\bottomrule\n",
       "\\end{tabular}\n",
       "%\\caption{Test Multiple Comparison ttest_ind \n",
       "FWER=0.05 method=bonf\n",
       "alphacSidak=0.01, alphacBonf=0.005}\n",
       "\\end{center}"
      ],
      "text/plain": [
       "<class 'statsmodels.iolib.table.SimpleTable'>"
      ]
     },
     "execution_count": 10,
     "metadata": {},
     "output_type": "execute_result"
    }
   ],
   "source": [
    "import statsmodels.stats.multicomp as mc\n",
    "from scipy import stats\n",
    "\n",
    "comp = mc.MultiComparison(data1['price'], data1['cut'])\n",
    "comptable,_,_ = comp.allpairtest(stats.ttest_ind, method = \"bonf\")\n",
    "comptable"
   ]
  },
  {
   "cell_type": "code",
   "execution_count": null,
   "id": "2c538763",
   "metadata": {},
   "outputs": [],
   "source": []
  }
 ],
 "metadata": {
  "kernelspec": {
   "display_name": "Python 3 (ipykernel)",
   "language": "python",
   "name": "python3"
  },
  "language_info": {
   "codemirror_mode": {
    "name": "ipython",
    "version": 3
   },
   "file_extension": ".py",
   "mimetype": "text/x-python",
   "name": "python",
   "nbconvert_exporter": "python",
   "pygments_lexer": "ipython3",
   "version": "3.11.4"
  }
 },
 "nbformat": 4,
 "nbformat_minor": 5
}
