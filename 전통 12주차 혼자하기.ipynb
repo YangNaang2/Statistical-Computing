{
 "cells": [
  {
   "cell_type": "code",
   "execution_count": 19,
   "id": "7d8a6342",
   "metadata": {},
   "outputs": [],
   "source": [
    "import numpy as np\n",
    "import pandas as pd"
   ]
  },
  {
   "cell_type": "code",
   "execution_count": 20,
   "id": "7e2945f6",
   "metadata": {},
   "outputs": [],
   "source": [
    "def target_func(x):\n",
    "    return x*x\n",
    "\n",
    "def grad_func(x):\n",
    "    return 2*x\n",
    "\n",
    "def update_theta(x, eta, gradient):\n",
    "    return x + eta*gradient"
   ]
  },
  {
   "cell_type": "code",
   "execution_count": 21,
   "id": "e20ed045",
   "metadata": {},
   "outputs": [],
   "source": [
    "# Gradient descent algorithm\n",
    "\n",
    "def gd_toy(target_func, grad_func, theta_0, eta):\n",
    "    theta = theta_0\n",
    "    value = target_func(theta)\n",
    "    \n",
    "    while True:\n",
    "        gradient = grad_func(theta)\n",
    "        theta1 = update_theta(theta, -eta, gradient)\n",
    "        value1 = target_func(theta1)\n",
    "        \n",
    "        if np.abs(value-value1) < 0.00000001:\n",
    "            return theta, value\n",
    "        else:\n",
    "            theta = theta1\n",
    "            value = value1"
   ]
  },
  {
   "cell_type": "code",
   "execution_count": 22,
   "id": "aacf007f",
   "metadata": {},
   "outputs": [
    {
     "name": "stdout",
     "output_type": "stream",
     "text": [
      "____________________________________\n",
      "The minimum of theta is  [0.00499973]\n",
      "The minimum value point is [2.5e-05]\n",
      "____________________________________\n"
     ]
    }
   ],
   "source": [
    "x = np.linspace(-5, 5, 100)\n",
    "theta_0 = np.random.random(1)\n",
    "eta = 0.0001\n",
    "\n",
    "theta, value = gd_toy(target_func, grad_func, theta_0, eta)\n",
    "print(\"____________________________________\")\n",
    "print(\"The minimum of theta is \", np.round(theta, 8))\n",
    "print(\"The minimum value point is\", np.round(value, 8))\n",
    "print(\"____________________________________\")\n"
   ]
  },
  {
   "cell_type": "code",
   "execution_count": 23,
   "id": "88a3b969",
   "metadata": {},
   "outputs": [
    {
     "data": {
      "text/html": [
       "<div>\n",
       "<style scoped>\n",
       "    .dataframe tbody tr th:only-of-type {\n",
       "        vertical-align: middle;\n",
       "    }\n",
       "\n",
       "    .dataframe tbody tr th {\n",
       "        vertical-align: top;\n",
       "    }\n",
       "\n",
       "    .dataframe thead th {\n",
       "        text-align: right;\n",
       "    }\n",
       "</style>\n",
       "<table border=\"1\" class=\"dataframe\">\n",
       "  <thead>\n",
       "    <tr style=\"text-align: right;\">\n",
       "      <th></th>\n",
       "      <th>Label</th>\n",
       "      <th>alcohol</th>\n",
       "      <th>malic_acid</th>\n",
       "      <th>ash</th>\n",
       "      <th>alcalinity</th>\n",
       "      <th>magnesium</th>\n",
       "      <th>total_phenols</th>\n",
       "      <th>flavanoids</th>\n",
       "      <th>nonflavanoids_phenols</th>\n",
       "      <th>proanthocyanins</th>\n",
       "      <th>color</th>\n",
       "      <th>hue</th>\n",
       "      <th>od280_315</th>\n",
       "      <th>proline</th>\n",
       "    </tr>\n",
       "  </thead>\n",
       "  <tbody>\n",
       "    <tr>\n",
       "      <th>0</th>\n",
       "      <td>1</td>\n",
       "      <td>14.23</td>\n",
       "      <td>1.71</td>\n",
       "      <td>2.43</td>\n",
       "      <td>15.6</td>\n",
       "      <td>127</td>\n",
       "      <td>2.80</td>\n",
       "      <td>3.06</td>\n",
       "      <td>0.28</td>\n",
       "      <td>2.29</td>\n",
       "      <td>5.64</td>\n",
       "      <td>1.04</td>\n",
       "      <td>3.92</td>\n",
       "      <td>1065</td>\n",
       "    </tr>\n",
       "    <tr>\n",
       "      <th>1</th>\n",
       "      <td>1</td>\n",
       "      <td>13.20</td>\n",
       "      <td>1.78</td>\n",
       "      <td>2.14</td>\n",
       "      <td>11.2</td>\n",
       "      <td>100</td>\n",
       "      <td>2.65</td>\n",
       "      <td>2.76</td>\n",
       "      <td>0.26</td>\n",
       "      <td>1.28</td>\n",
       "      <td>4.38</td>\n",
       "      <td>1.05</td>\n",
       "      <td>3.40</td>\n",
       "      <td>1050</td>\n",
       "    </tr>\n",
       "    <tr>\n",
       "      <th>2</th>\n",
       "      <td>1</td>\n",
       "      <td>13.16</td>\n",
       "      <td>2.36</td>\n",
       "      <td>2.67</td>\n",
       "      <td>18.6</td>\n",
       "      <td>101</td>\n",
       "      <td>2.80</td>\n",
       "      <td>3.24</td>\n",
       "      <td>0.30</td>\n",
       "      <td>2.81</td>\n",
       "      <td>5.68</td>\n",
       "      <td>1.03</td>\n",
       "      <td>3.17</td>\n",
       "      <td>1185</td>\n",
       "    </tr>\n",
       "    <tr>\n",
       "      <th>3</th>\n",
       "      <td>1</td>\n",
       "      <td>14.37</td>\n",
       "      <td>1.95</td>\n",
       "      <td>2.50</td>\n",
       "      <td>16.8</td>\n",
       "      <td>113</td>\n",
       "      <td>3.85</td>\n",
       "      <td>3.49</td>\n",
       "      <td>0.24</td>\n",
       "      <td>2.18</td>\n",
       "      <td>7.80</td>\n",
       "      <td>0.86</td>\n",
       "      <td>3.45</td>\n",
       "      <td>1480</td>\n",
       "    </tr>\n",
       "    <tr>\n",
       "      <th>4</th>\n",
       "      <td>1</td>\n",
       "      <td>13.24</td>\n",
       "      <td>2.59</td>\n",
       "      <td>2.87</td>\n",
       "      <td>21.0</td>\n",
       "      <td>118</td>\n",
       "      <td>2.80</td>\n",
       "      <td>2.69</td>\n",
       "      <td>0.39</td>\n",
       "      <td>1.82</td>\n",
       "      <td>4.32</td>\n",
       "      <td>1.04</td>\n",
       "      <td>2.93</td>\n",
       "      <td>735</td>\n",
       "    </tr>\n",
       "  </tbody>\n",
       "</table>\n",
       "</div>"
      ],
      "text/plain": [
       "   Label  alcohol  malic_acid   ash  alcalinity  magnesium  total_phenols  \\\n",
       "0      1    14.23        1.71  2.43        15.6        127           2.80   \n",
       "1      1    13.20        1.78  2.14        11.2        100           2.65   \n",
       "2      1    13.16        2.36  2.67        18.6        101           2.80   \n",
       "3      1    14.37        1.95  2.50        16.8        113           3.85   \n",
       "4      1    13.24        2.59  2.87        21.0        118           2.80   \n",
       "\n",
       "   flavanoids  nonflavanoids_phenols  proanthocyanins  color   hue  od280_315  \\\n",
       "0        3.06                   0.28             2.29   5.64  1.04       3.92   \n",
       "1        2.76                   0.26             1.28   4.38  1.05       3.40   \n",
       "2        3.24                   0.30             2.81   5.68  1.03       3.17   \n",
       "3        3.49                   0.24             2.18   7.80  0.86       3.45   \n",
       "4        2.69                   0.39             1.82   4.32  1.04       2.93   \n",
       "\n",
       "   proline  \n",
       "0     1065  \n",
       "1     1050  \n",
       "2     1185  \n",
       "3     1480  \n",
       "4      735  "
      ]
     },
     "execution_count": 23,
     "metadata": {},
     "output_type": "execute_result"
    }
   ],
   "source": [
    "data1 = pd.read_csv(\"wine2.csv\")\n",
    "data1.head()"
   ]
  },
  {
   "cell_type": "code",
   "execution_count": 24,
   "id": "28a880b2",
   "metadata": {},
   "outputs": [],
   "source": [
    "from sklearn.model_selection import train_test_split\n",
    "\n",
    "x_train, x_test, y_train, y_test = train_test_split(data1[['alcohol', 'malic_acid', 'ash', 'alcalinity', 'magnesium', 'total_phenols', 'flavanoids', 'nonflavanoids_phenols', 'proanthocyanins', 'color', 'hue', 'od280_315', 'proline']], data1['Label'], test_size = 0.2, shuffle = True, stratify=data1['Label'])"
   ]
  },
  {
   "cell_type": "code",
   "execution_count": 25,
   "id": "cd4d96d5",
   "metadata": {},
   "outputs": [
    {
     "name": "stdout",
     "output_type": "stream",
     "text": [
      "The dimension of the trainset is  (104, 13)\n",
      "The dimension of the testset is (26, 13)\n"
     ]
    }
   ],
   "source": [
    "print(\"The dimension of the trainset is \", x_train.shape)\n",
    "print(\"The dimension of the testset is\", x_test.shape)"
   ]
  },
  {
   "cell_type": "code",
   "execution_count": 26,
   "id": "c094bf1b",
   "metadata": {},
   "outputs": [],
   "source": [
    "from sklearn.preprocessing import StandardScaler, OneHotEncoder\n",
    "\n",
    "scaler = StandardScaler()\n",
    "xtrain_scaled = scaler.fit_transform(x_train)\n",
    "xtest_scaled = scaler.fit_transform(x_test)"
   ]
  },
  {
   "cell_type": "code",
   "execution_count": 27,
   "id": "88f8bbbd",
   "metadata": {},
   "outputs": [],
   "source": [
    "from sklearn.linear_model import LogisticRegression\n",
    "\n",
    "model1 = LogisticRegression(tol=1e-06).fit(xtrain_scaled,y_train)"
   ]
  },
  {
   "cell_type": "code",
   "execution_count": 28,
   "id": "758f9f03",
   "metadata": {},
   "outputs": [
    {
     "name": "stdout",
     "output_type": "stream",
     "text": [
      "__________________________________\n",
      "regression coefficients are  [[-1.44923178 -0.3780916  -0.99387281  1.18868537 -0.29588477 -0.07725611\n",
      "  -0.21662132  0.13012843  0.17229275 -0.61621461  0.07172492 -0.50052659\n",
      "  -1.73102586]]\n",
      "intercept is  [0.24824297]\n",
      "model score is  1.0\n",
      "__________________________________\n"
     ]
    }
   ],
   "source": [
    "print(\"__________________________________\")\n",
    "print(\"regression coefficients are \", model1.coef_)\n",
    "print(\"intercept is \" ,model1.intercept_)\n",
    "print(\"model score is \", model1.score(xtrain_scaled, y_train))\n",
    "print(\"__________________________________\")"
   ]
  },
  {
   "cell_type": "code",
   "execution_count": 29,
   "id": "f5932f35",
   "metadata": {},
   "outputs": [
    {
     "data": {
      "text/plain": [
       "array([[3.12946786e-03, 9.96870532e-01],\n",
       "       [6.42647170e-03, 9.93573528e-01],\n",
       "       [9.93075799e-01, 6.92420148e-03],\n",
       "       [9.99057459e-01, 9.42541368e-04],\n",
       "       [7.70303416e-01, 2.29696584e-01],\n",
       "       [9.99249327e-01, 7.50672667e-04],\n",
       "       [9.24226797e-01, 7.57732031e-02],\n",
       "       [7.66049550e-04, 9.99233950e-01],\n",
       "       [2.23795122e-03, 9.97762049e-01],\n",
       "       [9.87210691e-01, 1.27893087e-02],\n",
       "       [9.95540659e-01, 4.45934122e-03],\n",
       "       [2.29935798e-02, 9.77006420e-01],\n",
       "       [6.11696210e-02, 9.38830379e-01],\n",
       "       [1.26654508e-02, 9.87334549e-01],\n",
       "       [2.50573320e-01, 7.49426680e-01],\n",
       "       [9.80058939e-01, 1.99410612e-02],\n",
       "       [7.21618065e-03, 9.92783819e-01],\n",
       "       [7.75909454e-01, 2.24090546e-01],\n",
       "       [1.35960867e-02, 9.86403913e-01],\n",
       "       [9.99211514e-01, 7.88485575e-04],\n",
       "       [9.98899186e-01, 1.10081420e-03],\n",
       "       [8.94746986e-01, 1.05253014e-01],\n",
       "       [1.33278621e-01, 8.66721379e-01],\n",
       "       [5.72086563e-04, 9.99427913e-01],\n",
       "       [1.82849392e-02, 9.81715061e-01],\n",
       "       [1.49539358e-01, 8.50460642e-01]])"
      ]
     },
     "execution_count": 29,
     "metadata": {},
     "output_type": "execute_result"
    }
   ],
   "source": [
    "model1.predict_proba(xtest_scaled)"
   ]
  },
  {
   "cell_type": "code",
   "execution_count": 30,
   "id": "022e210a",
   "metadata": {},
   "outputs": [
    {
     "name": "stdout",
     "output_type": "stream",
     "text": [
      "predicted labels are  [2 2 1 1 1 1 1 2 2 1 1 2 2 2 2 1 2 1 2 1 1 1 2 2 2 2]\n"
     ]
    }
   ],
   "source": [
    "y_pred = model1.predict(xtest_scaled)\n",
    "print(\"predicted labels are \", y_pred)"
   ]
  },
  {
   "cell_type": "code",
   "execution_count": 31,
   "id": "ab1ab684",
   "metadata": {
    "scrolled": true
   },
   "outputs": [
    {
     "name": "stdout",
     "output_type": "stream",
     "text": [
      "[[12  0]\n",
      " [ 0 14]]\n"
     ]
    }
   ],
   "source": [
    "from sklearn import metrics\n",
    "\n",
    "confusion_matrix = metrics.confusion_matrix(y_test, y_pred)\n",
    "print(confusion_matrix)"
   ]
  },
  {
   "cell_type": "code",
   "execution_count": 33,
   "id": "59d70fba",
   "metadata": {},
   "outputs": [
    {
     "name": "stdout",
     "output_type": "stream",
     "text": [
      "              precision    recall  f1-score   support\n",
      "\n",
      "     class 1       1.00      1.00      1.00        12\n",
      "     class 2       1.00      1.00      1.00        14\n",
      "\n",
      "    accuracy                           1.00        26\n",
      "   macro avg       1.00      1.00      1.00        26\n",
      "weighted avg       1.00      1.00      1.00        26\n",
      "\n"
     ]
    }
   ],
   "source": [
    "print(metrics.classification_report(y_test, y_pred, target_names = ['class 1', 'class 2']))"
   ]
  },
  {
   "cell_type": "code",
   "execution_count": null,
   "id": "8ddd3c94",
   "metadata": {},
   "outputs": [],
   "source": []
  }
 ],
 "metadata": {
  "kernelspec": {
   "display_name": "Python 3 (ipykernel)",
   "language": "python",
   "name": "python3"
  },
  "language_info": {
   "codemirror_mode": {
    "name": "ipython",
    "version": 3
   },
   "file_extension": ".py",
   "mimetype": "text/x-python",
   "name": "python",
   "nbconvert_exporter": "python",
   "pygments_lexer": "ipython3",
   "version": "3.11.4"
  }
 },
 "nbformat": 4,
 "nbformat_minor": 5
}
