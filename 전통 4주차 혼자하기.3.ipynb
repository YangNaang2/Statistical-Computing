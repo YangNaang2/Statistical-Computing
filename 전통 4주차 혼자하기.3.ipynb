{
 "cells": [
  {
   "cell_type": "markdown",
   "id": "7f2c733a",
   "metadata": {},
   "source": [
    "#  About the difference of two proportions\n",
    "\n",
    "# -> A survey company asked 100 males and 100 female if they married or not. 62 male and 29 female responded that they are married.\n",
    "\n",
    "# -> Compute the 90% confidence interval of the difference of the two proportions."
   ]
  },
  {
   "cell_type": "code",
   "execution_count": 4,
   "id": "40cff7e7",
   "metadata": {},
   "outputs": [],
   "source": [
    "import numpy as np\n",
    "from scipy.stats import norm"
   ]
  },
  {
   "cell_type": "code",
   "execution_count": 5,
   "id": "6ee48ea7",
   "metadata": {},
   "outputs": [
    {
     "name": "stdout",
     "output_type": "stream",
     "text": [
      "The difference of two proportions is  0.33\n",
      "90% confidence interval of the difference of two proportions is 0.2207 and 0.2207\n"
     ]
    }
   ],
   "source": [
    "n1 = n2 = 100\n",
    "p_male = 62/n1\n",
    "p_female = 29/n2\n",
    "\n",
    "z_norm = norm(loc=0, scale = 1)\n",
    "\n",
    "ll = (p_male - p_female) - z_norm.ppf(0.95)*np.sqrt(p_male*(1-p_male)/n1 + p_female*(1-p_female)/n2)\n",
    "ul = (p_male - p_female) - z_norm.ppf(0.95)*np.sqrt(p_male*(1-p_male)/n1 + p_female*(1-p_female)/n2)                                               \n",
    "\n",
    "print(\"The difference of two proportions is \", p_male-p_female)\n",
    "print(\"90% confidence interval of the difference of two proportions is {} and {}\".format(np.round(ll,4), np.round(ul,4)))\n",
    "                                                    "
   ]
  },
  {
   "cell_type": "markdown",
   "id": "e861ace4",
   "metadata": {},
   "source": [
    "\n"
   ]
  },
  {
   "cell_type": "code",
   "execution_count": null,
   "id": "10de5d24",
   "metadata": {},
   "outputs": [],
   "source": []
  },
  {
   "cell_type": "code",
   "execution_count": null,
   "id": "3050c05e",
   "metadata": {},
   "outputs": [],
   "source": []
  }
 ],
 "metadata": {
  "kernelspec": {
   "display_name": "Python 3 (ipykernel)",
   "language": "python",
   "name": "python3"
  },
  "language_info": {
   "codemirror_mode": {
    "name": "ipython",
    "version": 3
   },
   "file_extension": ".py",
   "mimetype": "text/x-python",
   "name": "python",
   "nbconvert_exporter": "python",
   "pygments_lexer": "ipython3",
   "version": "3.11.4"
  }
 },
 "nbformat": 4,
 "nbformat_minor": 5
}
