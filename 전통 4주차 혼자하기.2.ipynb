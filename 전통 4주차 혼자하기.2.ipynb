{
 "cells": [
  {
   "cell_type": "markdown",
   "id": "29bd28e6",
   "metadata": {},
   "source": [
    "##  About the proportion\n",
    "\n",
    "## A company randomly select 250 customers and send the promotion code for a new product. Among these, 70 people responded to buy the product using the promotion code. Then what would be the proportion of the customers to buy the product, and what is the 90% confidence interval of that?"
   ]
  },
  {
   "cell_type": "code",
   "execution_count": 2,
   "id": "4c6dbe04",
   "metadata": {},
   "outputs": [],
   "source": [
    "import numpy as np\n",
    "from scipy.stats import norm\n",
    "from scipy.stats import t"
   ]
  },
  {
   "cell_type": "code",
   "execution_count": 5,
   "id": "d6aa055c",
   "metadata": {},
   "outputs": [
    {
     "name": "stdout",
     "output_type": "stream",
     "text": [
      "The point estimator of the proportion is  0.28\n",
      "90% of the confidence interval of the proportion is 0.2333 and 0.3267\n"
     ]
    }
   ],
   "source": [
    "n = 250\n",
    "x = 70\n",
    "p_hat = x/n\n",
    "\n",
    "z_norm = norm(loc = 0, scale = 1)\n",
    "ll = p_hat - z_norm.ppf(0.95)*np.sqrt(p_hat*(1-p_hat)/n)\n",
    "ul = p_hat + z_norm.ppf(0.95)*np.sqrt(p_hat*(1-p_hat)/n)\n",
    "\n",
    "print(\"The point estimator of the proportion is \", p_hat)\n",
    "print(\"90% of the confidence interval of the proportion is {} and {}\".format(np.round(ll, 4), np.round(ul, 4)))"
   ]
  },
  {
   "cell_type": "code",
   "execution_count": null,
   "id": "d0fe60b8",
   "metadata": {},
   "outputs": [],
   "source": []
  }
 ],
 "metadata": {
  "kernelspec": {
   "display_name": "Python 3 (ipykernel)",
   "language": "python",
   "name": "python3"
  },
  "language_info": {
   "codemirror_mode": {
    "name": "ipython",
    "version": 3
   },
   "file_extension": ".py",
   "mimetype": "text/x-python",
   "name": "python",
   "nbconvert_exporter": "python",
   "pygments_lexer": "ipython3",
   "version": "3.11.4"
  }
 },
 "nbformat": 4,
 "nbformat_minor": 5
}
