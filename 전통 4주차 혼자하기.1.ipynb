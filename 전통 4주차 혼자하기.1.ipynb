{
 "cells": [
  {
   "cell_type": "code",
   "execution_count": 49,
   "id": "65030cd2",
   "metadata": {},
   "outputs": [],
   "source": [
    "import numpy as np\n",
    "from scipy.stats import norm\n",
    "from scipy.stats import t \n",
    "from scipy.stats import chi2\n",
    "from scipy.stats import f"
   ]
  },
  {
   "cell_type": "code",
   "execution_count": 50,
   "id": "8b9f3718",
   "metadata": {},
   "outputs": [],
   "source": [
    "can_data = np.array([101.8, 101.5, 102.6, 101, 101.8, 96.8, 102.4, 100, 98.8,\n",
    "                    98.1, 98.8, 98, 99.4, 95.5, 100.1, 100.5, 97.4, 100.2, 101.4,\n",
    "                    98.7, 101.4, 99.4, 101.7, 99, 99.7, 98.8, 99.5, 100, 99.7, 100.9,\n",
    "                    99.7, 99, 98.8, 99.7, 100.9, 99.9, 97.5, 101.5, 98.2, 99.2, 98.6,\n",
    "                    101.4, 102.1, 102.9, 100.8, 99.4, 103.7, 100.3, 100.2, 101.1, 101.8,\n",
    "                    100, 101.2, 100.5, 101.2, 101.6, 99.9, 100.5, 100.4, 98.1, 100.1,\n",
    "                    101.6, 99.3, 96.1, 100, 99.7, 99.7, 99.4, 101.5, 100.9, 101.2, \n",
    "                    99.9, 99.1, 100.7, 100.8, 100.8, 101.4, 100.3, 98.4, 97.2])"
   ]
  },
  {
   "cell_type": "code",
   "execution_count": 51,
   "id": "8d3a5587",
   "metadata": {},
   "outputs": [
    {
     "name": "stdout",
     "output_type": "stream",
     "text": [
      "pont estimator of the mean is 100.04 \n",
      "95% confidence interval of the mean is 99.7053 and 100.3722\n"
     ]
    }
   ],
   "source": [
    "n = len(can_data)\n",
    "can_mean = np.mean(can_data)\n",
    "can_std = np.std(can_data, ddof=1)\n",
    "\n",
    "ll = can_mean - norm(loc = 0, scale =1).ppf(0.975)*can_std/np.sqrt(n)\n",
    "ul = can_mean + norm(loc = 0, scale =1).ppf(0.975)*can_std/np.sqrt(n)\n",
    "\n",
    "print(\"pont estimator of the mean is %.2f \" % can_mean)\n",
    "print(\"95% confidence interval of the mean is {} and {}\".format(np.round(ll, 4), np.round(ul, 4)))\n"
   ]
  },
  {
   "cell_type": "markdown",
   "id": "38c91561",
   "metadata": {},
   "source": [
    "### about the mean (a small sized sample)"
   ]
  },
  {
   "cell_type": "code",
   "execution_count": 52,
   "id": "329c9d67",
   "metadata": {},
   "outputs": [
    {
     "name": "stdout",
     "output_type": "stream",
     "text": [
      "___________________________________________________________\n",
      "[ 99.  100.   99.7 100.  102.1  98.  101.4 100.5  95.5 101.4  97.2 100.7\n",
      " 100.9 100.   98.8 100.3 100.1 100.1 100.  101.4 100.  101.5  99.   99.7\n",
      " 101.5]\n",
      "___________________________________________________________\n"
     ]
    }
   ],
   "source": [
    "small_can = np.random.choice(can_data, 25, replace=True)\n",
    "print(\"___________________________________________________________\")\n",
    "print(small_can)\n",
    "print(\"___________________________________________________________\")"
   ]
  },
  {
   "cell_type": "code",
   "execution_count": 53,
   "id": "191c8561",
   "metadata": {},
   "outputs": [
    {
     "name": "stdout",
     "output_type": "stream",
     "text": [
      "pont estimator of the mean is 99.95 \n",
      "95% confidence interval of the mean is 99.3438 and 100.5602\n"
     ]
    }
   ],
   "source": [
    "n = len(small_can)\n",
    "df = n - 1\n",
    "can_mean = np.mean(small_can)\n",
    "can_std = np.std(small_can, ddof=1)\n",
    "\n",
    "ll = can_mean - t(df).ppf(0.975)*can_std/np.sqrt(n)\n",
    "ul = can_mean + t(df).ppf(0.975)*can_std/np.sqrt(n)\n",
    "print(\"pont estimator of the mean is %.2f \" % can_mean)\n",
    "print(\"95% confidence interval of the mean is {} and {}\".format(np.round(ll, 4), np.round(ul, 4)))"
   ]
  },
  {
   "cell_type": "markdown",
   "id": "8f7f6abb",
   "metadata": {},
   "source": [
    "### about the variance\n",
    "\n",
    "### Find the 95% confidence interval of the variance with ‘can data’."
   ]
  },
  {
   "cell_type": "code",
   "execution_count": 54,
   "id": "02441925",
   "metadata": {},
   "outputs": [
    {
     "name": "stdout",
     "output_type": "stream",
     "text": [
      "The point estimator of the variance is 2.3160743670886093\n",
      "The 95% confidence interval of the variance is 1.7348 and 3.2494\n"
     ]
    }
   ],
   "source": [
    "n = len(can_data)\n",
    "df = n - 1\n",
    "s2 = np.var(can_data, ddof = 1)\n",
    "chi_dist = chi2(df)\n",
    "\n",
    "ll = (n-1)*s2/chi_dist.ppf(0.975)\n",
    "ul = (n-1)*s2/chi_dist.ppf(0.025)\n",
    "print(\"The point estimator of the variance is\", s2)\n",
    "print(\"The 95% confidence interval of the variance is {} and {}\".format(np.round(ll, 4), np.round(ul, 4)))"
   ]
  },
  {
   "cell_type": "markdown",
   "id": "a56cdebd",
   "metadata": {},
   "source": [
    "### about the difference of two means"
   ]
  },
  {
   "cell_type": "code",
   "execution_count": 55,
   "id": "f7b0482c",
   "metadata": {},
   "outputs": [
    {
     "name": "stdout",
     "output_type": "stream",
     "text": [
      "__________________ A group _________________________\n",
      "[101.8  98.   99.4 100.7 103.7  97.4  98.1 101.5 100.8  99.5  99.7 102.4\n",
      "  98.8  98.   98.4 100.9 101.1  99.7  99.9 101.8]\n",
      "__________________ B group _________________________\n",
      "[ 98.1  99.5  99.9 102.9 101.7 101.2 100.5  98.   97.2  98.8 102.4 101.4\n",
      "  99.3  98.2  99.7 100.8 101.4 103.7]\n"
     ]
    }
   ],
   "source": [
    "A_group =np.random.choice(can_data, 20, replace=True)\n",
    "B_group =np.random.choice(can_data, 18, replace=True)\n",
    "\n",
    "print(\"__________________ A group _________________________\")\n",
    "print(A_group)\n",
    "print(\"__________________ B group _________________________\")\n",
    "print(B_group)"
   ]
  },
  {
   "cell_type": "markdown",
   "id": "0ea69d44",
   "metadata": {},
   "source": [
    "### About the differece of two means\n",
    "\n",
    "### Calculate the pooled estimator of the variance"
   ]
  },
  {
   "cell_type": "code",
   "execution_count": 56,
   "id": "91b30472",
   "metadata": {},
   "outputs": [
    {
     "name": "stdout",
     "output_type": "stream",
     "text": [
      "Pooled estimator of the variance is  3.0865\n"
     ]
    }
   ],
   "source": [
    "n1 = len(A_group)\n",
    "n2 = len(B_group)\n",
    "\n",
    "pooled_s2 = ((n1-1)*np.var(A_group, ddof=1) + (n2-1)*np.var(B_group, ddof=1))/(n1+n2-2)\n",
    "print(\"Pooled estimator of the variance is \", np.round(pooled_s2,4))"
   ]
  },
  {
   "cell_type": "markdown",
   "id": "923ec5c2",
   "metadata": {},
   "source": [
    "### About the difference of two means\n",
    "\n",
    "### Calculate the 95% confidence interval of the difference of the means."
   ]
  },
  {
   "cell_type": "code",
   "execution_count": 57,
   "id": "1c650adf",
   "metadata": {},
   "outputs": [
    {
     "name": "stdout",
     "output_type": "stream",
     "text": [
      "The point estimator of the difference of the means is  -0.1811\n",
      "95% confidence interval of the mean variance is -1.3387 and 0.9765\n"
     ]
    }
   ],
   "source": [
    "a_mean = np.mean(A_group)\n",
    "b_mean = np.mean(B_group)\n",
    "df = n1+n2-2\n",
    "\n",
    "ll = (a_mean - b_mean) - t(df).ppf(0.975)*np.sqrt(pooled_s2)*np.sqrt(1/n1+1/n2)\n",
    "ul = (a_mean - b_mean) + t(df).ppf(0.975)*np.sqrt(pooled_s2)*np.sqrt(1/n1+1/n2)\n",
    "\n",
    "print(\"The point estimator of the difference of the means is \", np.round(a_mean - b_mean,4))\n",
    "print(\"95% confidence interval of the mean variance is {} and {}\".format(np.round(ll, 4), np.round(ul, 4)))"
   ]
  },
  {
   "cell_type": "markdown",
   "id": "9866e07a",
   "metadata": {},
   "source": [
    "#  About the ratio of two variances\n",
    "\n",
    "# -> Compute the 95% confidence interval of the ratio of A over B group in the previous example."
   ]
  },
  {
   "cell_type": "code",
   "execution_count": 58,
   "id": "a0ba6dc6",
   "metadata": {},
   "outputs": [
    {
     "name": "stdout",
     "output_type": "stream",
     "text": [
      "95% cofidence interval of ratio of variance A over B is 2.2008 and 2.2575\n"
     ]
    }
   ],
   "source": [
    "n1 = len(A_group)\n",
    "n2 = len(B_group)\n",
    "f1_dist = f(n1-1, n2-1)\n",
    "f2_dist = f(n2-1, n1-1)\n",
    "\n",
    "A_s2 = np.var(A_group, ddof=1)\n",
    "B_s2 = np.var(B_group, ddof=1)\n",
    "\n",
    "ll = (A_s2/B_s2)*f2_dist.ppf(0.975)\n",
    "ul = (A_s2/B_s2)*f1_dist.ppf(0.975)\n",
    "\n",
    "print(\"95% cofidence interval of ratio of variance A over B is {} and {}\".format(np.round(ll,4), np.round(ul,4)))"
   ]
  },
  {
   "cell_type": "code",
   "execution_count": null,
   "id": "0e7f190a",
   "metadata": {},
   "outputs": [],
   "source": []
  }
 ],
 "metadata": {
  "kernelspec": {
   "display_name": "Python 3 (ipykernel)",
   "language": "python",
   "name": "python3"
  },
  "language_info": {
   "codemirror_mode": {
    "name": "ipython",
    "version": 3
   },
   "file_extension": ".py",
   "mimetype": "text/x-python",
   "name": "python",
   "nbconvert_exporter": "python",
   "pygments_lexer": "ipython3",
   "version": "3.11.4"
  }
 },
 "nbformat": 4,
 "nbformat_minor": 5
}
